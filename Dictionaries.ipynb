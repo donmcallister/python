{
 "cells": [
  {
   "cell_type": "code",
   "execution_count": 5,
   "metadata": {},
   "outputs": [],
   "source": [
    "from random import choice, random, randint"
   ]
  },
  {
   "cell_type": "code",
   "execution_count": 11,
   "metadata": {},
   "outputs": [],
   "source": [
    "d = {'apple':1, 'banana':2, 'orange':3}"
   ]
  },
  {
   "cell_type": "code",
   "execution_count": 12,
   "metadata": {},
   "outputs": [
    {
     "data": {
      "text/plain": [
       "1"
      ]
     },
     "execution_count": 12,
     "metadata": {},
     "output_type": "execute_result"
    }
   ],
   "source": [
    "d['apple']"
   ]
  },
  {
   "cell_type": "code",
   "execution_count": 6,
   "metadata": {},
   "outputs": [],
   "source": [
    "fruits = ['apple', 'banana', 'orange']"
   ]
  },
  {
   "cell_type": "code",
   "execution_count": 7,
   "metadata": {},
   "outputs": [],
   "source": [
    "l = [('apple', 1), ('banana', 2), ('orange', 3)]"
   ]
  },
  {
   "cell_type": "code",
   "execution_count": 18,
   "metadata": {},
   "outputs": [
    {
     "name": "stdout",
     "output_type": "stream",
     "text": [
      "orange\n",
      "3\n"
     ]
    }
   ],
   "source": [
    "#lookup using a list \n",
    "fruit = choice(fruits)\n",
    "print(fruit)\n",
    "value = [item[1] for item in l if item[0] == fruit][0]\n",
    "print(value)"
   ]
  },
  {
   "cell_type": "code",
   "execution_count": 19,
   "metadata": {},
   "outputs": [
    {
     "name": "stdout",
     "output_type": "stream",
     "text": [
      "orange\n",
      "3\n"
     ]
    }
   ],
   "source": [
    "# lookup using a dictionary\n",
    "fruit = choice(fruits)\n",
    "print(fruit)\n",
    "value = d[fruit]\n",
    "print(value)"
   ]
  },
  {
   "cell_type": "code",
   "execution_count": 20,
   "metadata": {},
   "outputs": [
    {
     "name": "stdout",
     "output_type": "stream",
     "text": [
      "684 ns ± 1.57 ns per loop (mean ± std. dev. of 7 runs, 1000000 loops each)\n"
     ]
    }
   ],
   "source": [
    "%%timeit\n",
    "fruit = choice(fruits)\n",
    "value = [item[1] for item in l if item[0] == fruit][0]"
   ]
  },
  {
   "cell_type": "code",
   "execution_count": 21,
   "metadata": {},
   "outputs": [
    {
     "name": "stdout",
     "output_type": "stream",
     "text": [
      "358 ns ± 1.07 ns per loop (mean ± std. dev. of 7 runs, 1000000 loops each)\n"
     ]
    }
   ],
   "source": [
    "%%timeit\n",
    "fruit = choice(fruits)\n",
    "value = d[fruit]"
   ]
  },
  {
   "cell_type": "code",
   "execution_count": 22,
   "metadata": {},
   "outputs": [
    {
     "data": {
      "text/plain": [
       "1.910614525139665"
      ]
     },
     "execution_count": 22,
     "metadata": {},
     "output_type": "execute_result"
    }
   ],
   "source": [
    "#calculate speedup using dictionary\n",
    "684/358"
   ]
  },
  {
   "cell_type": "code",
   "execution_count": 97,
   "metadata": {},
   "outputs": [
    {
     "name": "stdout",
     "output_type": "stream",
     "text": [
      "words often >=5: [(['you'], 36), (['yeah'], 28), (['she'], 20), (['loves'], 13), (['know'], 11), (['be'], 10), (['and'], 8), (['that', 'should', 'glad'], 7), (['love'], 5)] \n",
      "\n",
      "most common words: (['her', 'with', 'a', 'like'], 4) \n",
      "\n",
      "frequency list: {'think': 2, \"you've\": 1, 'lost': 2, 'your': 1, 'well': 1, 'i': 2, 'saw': 1, 'her': 4, 'yesterday-yi-yay': 1, \"it's\": 3, \"she's\": 1, 'thinking': 1, 'of': 1, 'told': 1, 'me': 1, 'what': 1, 'to': 3, 'say-yi-yay': 1, 'says': 3, \"can't\": 3, 'bad': 3, 'yes': 2, 'said': 1, 'hurt': 2, 'so': 1, 'almost': 1, 'mind': 1, 'now': 1, 'knows': 1, \"you're\": 1, 'not': 1, 'the': 1, 'hurting': 1, 'kind': 1, 'oo': 2, 'with': 4, 'a': 4, 'like': 4, 'up': 1, 'only': 1, 'fair': 1, 'pride': 1, 'can': 1, 'too': 1, 'pologize': 1, 'Because': 1, 'Yes': 1}\n"
     ]
    }
   ],
   "source": [
    "#####################################\n",
    "# EXAMPLE: using dictionaries\n",
    "#          counting frequencies of words in song lyrics\n",
    "#####################################\n",
    "\n",
    "def lyrics_to_frequencies(lyrics):\n",
    "    myDict = {}\n",
    "    for word in lyrics:\n",
    "        if word in myDict:\n",
    "            myDict[word] += 1\n",
    "        else:\n",
    "            myDict[word] = 1\n",
    "    return myDict\n",
    "    \n",
    "    \n",
    "she_loves_you = ['she', 'loves', 'you', 'yeah', 'yeah', \n",
    "'yeah','she', 'loves', 'you', 'yeah', 'yeah', 'yeah',\n",
    "'she', 'loves', 'you', 'yeah', 'yeah', 'yeah',\n",
    "\n",
    "'you', 'think', \"you've\", 'lost', 'your', 'love',\n",
    "'well', 'i', 'saw', 'her', 'yesterday-yi-yay',\n",
    "\"it's\", 'you', \"she's\", 'thinking', 'of',\n",
    "'and', 'she', 'told', 'me', 'what', 'to', 'say-yi-yay',\n",
    "\n",
    "'she', 'says', 'she', 'loves', 'you',\n",
    "'and', 'you', 'know', 'that', \"can't\", 'be', 'bad',\n",
    "'yes', 'she', 'loves', 'you',\n",
    "'and', 'you', 'know', 'you', 'should', 'be', 'glad',\n",
    "\n",
    "'she', 'said', 'you', 'hurt', 'her', 'so',\n",
    "'she', 'almost', 'lost', 'her', 'mind',\n",
    "'and', 'now', 'she', 'says', 'she', 'knows',\n",
    "\"you're\", 'not', 'the', 'hurting', 'kind',\n",
    "\n",
    "'she', 'says', 'she', 'loves', 'you',\n",
    "'and', 'you', 'know', 'that', \"can't\", 'be', 'bad',\n",
    "'yes', 'she', 'loves', 'you',\n",
    "'and', 'you', 'know', 'you', 'should', 'be', 'glad',\n",
    "\n",
    "'oo', 'she', 'loves', 'you', 'yeah', 'yeah', 'yeah',\n",
    "'she', 'loves', 'you', 'yeah', 'yeah', 'yeah',\n",
    "'with', 'a', 'love', 'like', 'that',\n",
    "'you', 'know', 'you', 'should', 'be', 'glad',\n",
    "\n",
    "'you', 'know', \"it's\", 'up', 'to', 'you',\n",
    "'i', 'think', \"it's\", 'only', 'fair',\n",
    "'pride', 'can', 'hurt', 'you', 'too',\n",
    "'pologize', 'to', 'her',\n",
    "\n",
    "'Because', 'she', 'loves', 'you',\n",
    "'and', 'you', 'know', 'that', \"can't\", 'be', 'bad',\n",
    "'Yes', 'she', 'loves', 'you',\n",
    "'and', 'you', 'know', 'you', 'should', 'be', 'glad',\n",
    "\n",
    "'oo', 'she', 'loves', 'you', 'yeah', 'yeah', 'yeah',\n",
    "'she', 'loves', 'you', 'yeah', 'yeah', 'yeah',\n",
    "'with', 'a', 'love', 'like', 'that',\n",
    "'you', 'know', 'you', 'should', 'be', 'glad',\n",
    "'with', 'a', 'love', 'like', 'that',\n",
    "'you', 'know', 'you', 'should', 'be', 'glad',\n",
    "'with', 'a', 'love', 'like', 'that',\n",
    "'you', 'know', 'you', 'should', 'be', 'glad',\n",
    "'yeah', 'yeah', 'yeah',\n",
    "'yeah', 'yeah', 'yeah', 'yeah'\n",
    "]\n",
    "\n",
    "beatles = lyrics_to_frequencies(she_loves_you)\n",
    "\n",
    "def most_common_words(freqs):\n",
    "    values = freqs.values()\n",
    "    best = max(freqs.values())\n",
    "    words = []\n",
    "    for k in freqs:\n",
    "        if freqs[k] == best:\n",
    "            words.append(k)\n",
    "    return (words, best)\n",
    "    \n",
    "def words_often(freqs, minTimes):\n",
    "    result = []\n",
    "    done = False\n",
    "    while not done:\n",
    "        temp = most_common_words(freqs)\n",
    "        if temp[1] >= minTimes:\n",
    "            result.append(temp)\n",
    "            for w in temp[0]:\n",
    "                del(freqs[w])  #remove word from dict\n",
    "        else:\n",
    "            done = True\n",
    "    return result\n",
    "    \n",
    "print(\"words often >=5:\", words_often(beatles, 5), \"\\n\")\n",
    "print(\"most common words:\", most_common_words(beatles), \"\\n\")\n",
    "print(\"frequency list:\",beatles)"
   ]
  },
  {
   "cell_type": "code",
   "execution_count": 91,
   "metadata": {},
   "outputs": [],
   "source": [
    "from collections import Counter"
   ]
  },
  {
   "cell_type": "code",
   "execution_count": 96,
   "metadata": {},
   "outputs": [
    {
     "name": "stdout",
     "output_type": "stream",
     "text": [
      "{'she': 20, 'loves': 13, 'you': 36, 'yeah': 28, 'think': 2, \"you've\": 1, 'lost': 2, 'your': 1, 'love': 5, 'well': 1, 'i': 2, 'saw': 1, 'her': 4, 'yesterday-yi-yay': 1, \"it's\": 3, \"she's\": 1, 'thinking': 1, 'of': 1, 'and': 8, 'told': 1, 'me': 1, 'what': 1, 'to': 3, 'say-yi-yay': 1, 'says': 3, 'know': 11, 'that': 7, \"can't\": 3, 'be': 10, 'bad': 3, 'yes': 2, 'should': 7, 'glad': 7, 'said': 1, 'hurt': 2, 'so': 1, 'almost': 1, 'mind': 1, 'now': 1, 'knows': 1, \"you're\": 1, 'not': 1, 'the': 1, 'hurting': 1, 'kind': 1, 'oo': 2, 'with': 4, 'a': 4, 'like': 4, 'up': 1, 'only': 1, 'fair': 1, 'pride': 1, 'can': 1, 'too': 1, 'pologize': 1, 'Because': 1, 'Yes': 1}\n",
      "most common words: (['you'], 36) \n",
      "\n",
      "['you'] 36\n"
     ]
    }
   ],
   "source": [
    "my_counter = dict(Counter(she_loves_you))\n",
    "print(my_counter)\n",
    "print(\"most common words:\", most_common_words(my_counter), \"\\n\")\n",
    "\n",
    "values = my_counter.values()\n",
    "best = max(values)\n",
    "words = []\n",
    "for k in my_counter:\n",
    "    if my_counter[k] == best:\n",
    "        words.append(k)\n",
    "print(words, best)"
   ]
  },
  {
   "cell_type": "code",
   "execution_count": null,
   "metadata": {},
   "outputs": [],
   "source": []
  },
  {
   "cell_type": "markdown",
   "metadata": {},
   "source": [
    "# Dictionary Comprehensions"
   ]
  },
  {
   "cell_type": "code",
   "execution_count": 1,
   "metadata": {},
   "outputs": [],
   "source": [
    "words = ['data', 'science', 'machine', 'learning']"
   ]
  },
  {
   "cell_type": "code",
   "execution_count": 2,
   "metadata": {},
   "outputs": [
    {
     "data": {
      "text/plain": [
       "[4, 7, 7, 8]"
      ]
     },
     "execution_count": 2,
     "metadata": {},
     "output_type": "execute_result"
    }
   ],
   "source": [
    "#list comprehension\n",
    "[len(i) for i in words]"
   ]
  },
  {
   "cell_type": "code",
   "execution_count": 3,
   "metadata": {},
   "outputs": [
    {
     "data": {
      "text/plain": [
       "{'data': 4, 'science': 7, 'machine': 7, 'learning': 8}"
      ]
     },
     "execution_count": 3,
     "metadata": {},
     "output_type": "execute_result"
    }
   ],
   "source": [
    "#dictionary comprehension\n",
    "{i:len(i) for i in words}"
   ]
  },
  {
   "cell_type": "code",
   "execution_count": 18,
   "metadata": {},
   "outputs": [
    {
     "data": {
      "text/plain": [
       "{'data': 4, 'science': 7, 'machine': 7, 'learning': 8}"
      ]
     },
     "execution_count": 18,
     "metadata": {},
     "output_type": "execute_result"
    }
   ],
   "source": [
    "from collections import Counter\n",
    "dict(Counter({w:len(w) for w in words}))"
   ]
  },
  {
   "cell_type": "code",
   "execution_count": 21,
   "metadata": {},
   "outputs": [
    {
     "data": {
      "text/plain": [
       "{'data': 'short', 'science': 7, 'machine': 7, 'learning': 8}"
      ]
     },
     "execution_count": 21,
     "metadata": {},
     "output_type": "execute_result"
    }
   ],
   "source": [
    "words_dict = {w:len(w) if len(w) > 5 else 'short' for w in words }\n",
    "words_dict"
   ]
  },
  {
   "cell_type": "code",
   "execution_count": 22,
   "metadata": {},
   "outputs": [
    {
     "data": {
      "text/plain": [
       "{'data': 5, 'science': 3, 'machine': 1, 'learning': 8}"
      ]
     },
     "execution_count": 22,
     "metadata": {},
     "output_type": "execute_result"
    }
   ],
   "source": [
    "#zip\n",
    "words = ['data', 'science', 'machine', 'learning']\n",
    "values = [5,3,1,8]\n",
    "\n",
    "dict_a = {k:v for k,v in zip(words, values)}\n",
    "dict_a"
   ]
  },
  {
   "cell_type": "code",
   "execution_count": 24,
   "metadata": {},
   "outputs": [
    {
     "data": {
      "text/plain": [
       "{'DATA': 25, 'SCIENCE': 9, 'MACHINE': 1, 'LEARNING': 64}"
      ]
     },
     "execution_count": 24,
     "metadata": {},
     "output_type": "execute_result"
    }
   ],
   "source": [
    "dict_b = {k.upper():v**2 for k,v in zip(words, values)}\n",
    "dict_b"
   ]
  },
  {
   "cell_type": "code",
   "execution_count": 25,
   "metadata": {},
   "outputs": [
    {
     "data": {
      "text/plain": [
       "[(1, 'don'),\n",
       " (2, 'nin'),\n",
       " (3, 'emma'),\n",
       " (4, 'elijah'),\n",
       " (5, 'levi'),\n",
       " (6, 'sophia')]"
      ]
     },
     "execution_count": 25,
     "metadata": {},
     "output_type": "execute_result"
    }
   ],
   "source": [
    "family_names = [\"don\", \"nin\", \"emma\", \"elijah\", \"levi\", \"sophia\"]\n",
    "\n",
    "list(enumerate(family_names, 1))"
   ]
  },
  {
   "cell_type": "code",
   "execution_count": 26,
   "metadata": {},
   "outputs": [],
   "source": [
    "dict_names = {k:len(v) for k,v in enumerate(family_names)}"
   ]
  },
  {
   "cell_type": "code",
   "execution_count": 27,
   "metadata": {},
   "outputs": [
    {
     "data": {
      "text/plain": [
       "{0: 3, 1: 3, 2: 4, 3: 6, 4: 4, 5: 6}"
      ]
     },
     "execution_count": 27,
     "metadata": {},
     "output_type": "execute_result"
    }
   ],
   "source": [
    "dict_names"
   ]
  },
  {
   "cell_type": "code",
   "execution_count": 28,
   "metadata": {},
   "outputs": [
    {
     "data": {
      "text/plain": [
       "{1: 'don', 2: 'nin', 3: 'emma', 4: 'elijah', 5: 'levi', 6: 'sophia'}"
      ]
     },
     "execution_count": 28,
     "metadata": {},
     "output_type": "execute_result"
    }
   ],
   "source": [
    "dict(enumerate(family_names, 1))"
   ]
  },
  {
   "cell_type": "markdown",
   "metadata": {},
   "source": [
    "# Tuple to Dict"
   ]
  },
  {
   "cell_type": "markdown",
   "metadata": {},
   "source": [
    "### tuple to dict demo\n",
    "https://stackoverflow.com/questions/3783530/python-tuple-to-dict"
   ]
  },
  {
   "cell_type": "code",
   "execution_count": 1,
   "metadata": {},
   "outputs": [
    {
     "data": {
      "text/plain": [
       "{'a': 1, 'b': 2}"
      ]
     },
     "execution_count": 1,
     "metadata": {},
     "output_type": "execute_result"
    }
   ],
   "source": [
    "t = ((1, 'a'),(2, 'b'))\n",
    "dict((y, x) for x, y in t)"
   ]
  },
  {
   "cell_type": "code",
   "execution_count": 2,
   "metadata": {},
   "outputs": [
    {
     "data": {
      "text/plain": [
       "{'a': 1, 'b': 2}"
      ]
     },
     "execution_count": 2,
     "metadata": {},
     "output_type": "execute_result"
    }
   ],
   "source": [
    "t2 = ((1, 'a'),(2, 'b'))\n",
    "dict(map(reversed, t2))"
   ]
  },
  {
   "cell_type": "code",
   "execution_count": 3,
   "metadata": {},
   "outputs": [
    {
     "data": {
      "text/plain": [
       "{'a': 1, 'b': 2}"
      ]
     },
     "execution_count": 3,
     "metadata": {},
     "output_type": "execute_result"
    }
   ],
   "source": [
    "t3 = ((1,'a'),(2,'b'))\n",
    "{y:x for x,y in t}"
   ]
  },
  {
   "cell_type": "code",
   "execution_count": 4,
   "metadata": {},
   "outputs": [
    {
     "data": {
      "text/plain": [
       "{'A': 1, 'B': 2, 'C': 3}"
      ]
     },
     "execution_count": 4,
     "metadata": {},
     "output_type": "execute_result"
    }
   ],
   "source": [
    "dict([('A', 1), ('B', 2), ('C', 3)])"
   ]
  },
  {
   "cell_type": "markdown",
   "metadata": {},
   "source": [
    "### if tuple has key repetitions"
   ]
  },
  {
   "cell_type": "code",
   "execution_count": 5,
   "metadata": {},
   "outputs": [
    {
     "data": {
      "text/plain": [
       "{'A': [1, 5], 'B': [2], 'C': [3], 'D': [0, 9]}"
      ]
     },
     "execution_count": 5,
     "metadata": {},
     "output_type": "execute_result"
    }
   ],
   "source": [
    "# An example\n",
    "l = [('A', 1), ('B', 2), ('C', 3), ('A', 5), ('D', 0), ('D', 9)]\n",
    "\n",
    "# A solution\n",
    "d = dict()\n",
    "[d [t[0]].append(t[1]) if t[0] in list(d.keys()) else d.update({t [0]: [t [1]]}) for t in l]\n",
    "d"
   ]
  },
  {
   "cell_type": "code",
   "execution_count": 6,
   "metadata": {},
   "outputs": [
    {
     "name": "stdout",
     "output_type": "stream",
     "text": [
      "{'A': [0, 9], 'B': [3, 4], 'C': [5]}\n"
     ]
    }
   ],
   "source": [
    "tup = [(\"A\",0),(\"B\",3),(\"C\",5),(\"A\",9),(\"B\",4)]\n",
    "dic = {}\n",
    "for i, j in tup:\n",
    "    dic.setdefault(i,[]).append(j)\n",
    "print(dic)"
   ]
  },
  {
   "cell_type": "markdown",
   "metadata": {},
   "source": [
    "### create nested dictionary from list\n",
    "- The above works because defaultdict(dict) initializes a dictionary for non-existent keys. It handles the dictionary creation for keys for you.\n",
    "- https://stackoverflow.com/questions/25833613/safe-method-to-get-value-of-nested-dictionary"
   ]
  },
  {
   "cell_type": "code",
   "execution_count": 7,
   "metadata": {},
   "outputs": [
    {
     "name": "stdout",
     "output_type": "stream",
     "text": [
      "defaultdict(<class 'dict'>, {'A': {'k1': 'v1', 'k2': 'v2'}, 'B': {'k1': 'v3', 'k2': 'v4'}})\n"
     ]
    }
   ],
   "source": [
    "from collections import defaultdict\n",
    "\n",
    "z1 = ['A', 'A', 'B', 'B']\n",
    "z2 = ['k1', 'k2', 'k1', 'k2']\n",
    "z3 = ['v1', 'v2', 'v3', 'v4']\n",
    "\n",
    "d = defaultdict(dict)\n",
    "for x, y, z in zip(z1, z2, z3):\n",
    "    d[x][y] = z\n",
    "\n",
    "print(d)"
   ]
  },
  {
   "cell_type": "code",
   "execution_count": 8,
   "metadata": {},
   "outputs": [
    {
     "data": {
      "text/plain": [
       "'v1'"
      ]
     },
     "execution_count": 8,
     "metadata": {},
     "output_type": "execute_result"
    }
   ],
   "source": [
    "d.get('A', {}).get('k1', {})"
   ]
  },
  {
   "cell_type": "code",
   "execution_count": 9,
   "metadata": {},
   "outputs": [],
   "source": [
    "def deep_get(d, keys, default=None):\n",
    "    \"\"\"\n",
    "    Example:\n",
    "        d = {'meta': {'status': 'OK', 'status_code': 200}}\n",
    "        deep_get(d, ['meta', 'status_code'])          # => 200\n",
    "        deep_get(d, ['garbage', 'status_code'])       # => None\n",
    "        deep_get(d, ['meta', 'garbage'], default='-') # => '-'\n",
    "    \"\"\"\n",
    "    assert type(keys) is list\n",
    "    if d is None:\n",
    "        return default\n",
    "    if not keys:\n",
    "        return d\n",
    "    return deep_get(d.get(keys[0]), keys[1:], default)"
   ]
  },
  {
   "cell_type": "code",
   "execution_count": 10,
   "metadata": {},
   "outputs": [
    {
     "data": {
      "text/plain": [
       "'v1'"
      ]
     },
     "execution_count": 10,
     "metadata": {},
     "output_type": "execute_result"
    }
   ],
   "source": [
    "deep_get(d, ['A', 'k1'])"
   ]
  },
  {
   "cell_type": "markdown",
   "metadata": {},
   "source": [
    "### regex to nested dict creation example"
   ]
  },
  {
   "cell_type": "code",
   "execution_count": 48,
   "metadata": {},
   "outputs": [
    {
     "name": "stdout",
     "output_type": "stream",
     "text": [
      "defaultdict(<function <lambda> at 0x7f86f00d73a0>, {'Steve': defaultdict(<class 'int'>, {1: 'Is that his chart?', 3: \"Mm-hmm. I'll see him in a few moments.\", 6: 'How is she, Jessie?'}), 'Phil': defaultdict(<class 'int'>, {2: 'Yes.', 4: 'All right. Thank you, Doctor.'}), 'P.A.': defaultdict(<class 'int'>, {5: 'Dr. Braun, Dr. Miller, and Dr. Sullivan, emergency.'}), 'Jessie': defaultdict(<class 'int'>, {7: \"Still fighting everybody and everything. She wants to live in the \\ndark and never see her face again. That's about what she was doing when I went \\nin. She had the blinds all drawn, towel over the mirror.\"})})\n"
     ]
    }
   ],
   "source": [
    "import re\n",
    "from collections import defaultdict\n",
    "\n",
    "string = \"\"\"Steve: Is that his chart? \n",
    "Phil: Yes. \n",
    "Steve: Mm-hmm. I'll see him in a few moments. \n",
    "Phil: All right. Thank you, Doctor. \n",
    "P.A.: Dr. Braun, Dr. Miller, and Dr. Sullivan, emergency. \n",
    "Steve: How is she, Jessie? \n",
    "Jessie: Still fighting everybody and everything. She wants to live in the \n",
    "dark and never see her face again. That's about what she was doing when I went \n",
    "in. She had the blinds all drawn, towel over the mirror.\"\"\"\n",
    "\n",
    "\n",
    "rx = re.compile(r'''\n",
    "    ^\n",
    "    (?P<actor>[A-Z][^:\\n\\r]+):\\s*\n",
    "    (?P<text>[\\s\\S]+?)\n",
    "    (?=^[A-Z]|\\Z)\n",
    "    ''', re.MULTILINE | re.VERBOSE)\n",
    "\n",
    "# create the nested defaultdict\n",
    "result = defaultdict(lambda : defaultdict(int))\n",
    "\n",
    "for m in rx.finditer(string):\n",
    "    start = m.start()\n",
    "    line = string.count('\\n', 0, start) + 1\n",
    "    result[m.group('actor')][line] = m.group('text').strip()\n",
    "\n",
    "print(result)"
   ]
  },
  {
   "cell_type": "markdown",
   "metadata": {},
   "source": [
    "### regex search nested dictionary and stop on first match"
   ]
  },
  {
   "cell_type": "code",
   "execution_count": 50,
   "metadata": {},
   "outputs": [
    {
     "name": "stdout",
     "output_type": "stream",
     "text": [
      "mammal\n",
      "tiger\n"
     ]
    }
   ],
   "source": [
    "vertebrates = {'dict1':{'frog':'amphibian', 'toad':'amphibian', 'salamander':'amphibian','newt':'amphibian'},\n",
    "           'dict2':{'bear':'mammal','cheetah':'mammal','fox':'mammal', 'mongoose':'mammal','tiger':'mammal'},\n",
    "           'dict3': {'anteater': 'mammal', 'tiger': 'mammal'}}\n",
    "\n",
    "\n",
    "sentence = 'I am a tiger'\n",
    "\n",
    "found = False # Initialized found flag as False (match not found)\n",
    "for dictionaries, values in vertebrates.items():\n",
    "    for pattern, value in values.items():\n",
    "        animal = re.compile(r'\\b{}\\b'.format(pattern), re.IGNORECASE|re.MULTILINE)\n",
    "        match = re.search(animal, sentence)\n",
    "        if match is not None:\n",
    "            print (value)\n",
    "            print (match.group(0))\n",
    "            found = True # Set found flag as True if you found a match\n",
    "            break # exit the loop since match is found\n",
    "\n",
    "    if found: # If match is found then break the loop\n",
    "        break"
   ]
  },
  {
   "cell_type": "markdown",
   "metadata": {},
   "source": [
    "### Match regex in python and return key"
   ]
  },
  {
   "cell_type": "code",
   "execution_count": 54,
   "metadata": {},
   "outputs": [],
   "source": [
    "user_info = { 'user1': {'name': 'Aby',\n",
    "                    'surname': 'Clark',\n",
    "                    'description': 'Hi contact me by phone +1 548 5455 55 or facebook.com/aby.clark'},\n",
    "          'user2': {'name': 'Marta',\n",
    "                     'surname': 'Bishop',\n",
    "                     'description': 'Nice to meet you text me'},\n",
    "           'user3': {'name': 'Janice',\n",
    "                     'surname': 'Valinise',\n",
    "                     'description': 'You can contact me by phone +1 457 555667'},\n",
    "           'user4': {'name': 'Helen',\n",
    "                     'surname': 'Bush',\n",
    "                     'description': 'You can contact me by phone +1 778 65422'},\n",
    "           'user5': {'name': 'Janice',\n",
    "                     'surname': 'Valinise',\n",
    "                     'description': 'You can contact me by phone +1 457 5342327 or email janval@yahoo.com'\n",
    "                    }}\n",
    "                     "
   ]
  },
  {
   "cell_type": "code",
   "execution_count": 62,
   "metadata": {},
   "outputs": [
    {
     "name": "stdout",
     "output_type": "stream",
     "text": [
      "[('user5.description', ['janval@yahoo.com'])]\n"
     ]
    }
   ],
   "source": [
    "matches = []\n",
    "for user, info in user_info.items():\n",
    "    for key, value in info.items():\n",
    "        emails = re.findall(\"([a-zA-Z0-9_.+-]+@[a-zA-Z0-9-]+\\.[a-zA-Z0-9-.]+)\", value)\n",
    "        if emails:\n",
    "            matches.append((f'{user}.{key}', emails))\n",
    "\n",
    "print(matches)"
   ]
  },
  {
   "cell_type": "markdown",
   "metadata": {},
   "source": [
    "### regex to nested dict with m.groupdict"
   ]
  },
  {
   "cell_type": "code",
   "execution_count": 63,
   "metadata": {},
   "outputs": [
    {
     "name": "stdout",
     "output_type": "stream",
     "text": [
      "{'student': {'id': '1234', 'name': 'STUD'}}\n"
     ]
    }
   ],
   "source": [
    "import re\n",
    "\n",
    "_pat_student_parser = re.compile(r'((?P<id>\\d{4})(?P<name>\\w{4}))')\n",
    "\n",
    "def nested_dict_from_text(text):\n",
    "    m = re.search(_pat_student_parser, text)\n",
    "    if not m:\n",
    "        raise ValueError\n",
    "    d = m.groupdict()\n",
    "    return { \"student\": d }\n",
    "\n",
    "result = nested_dict_from_text('1234STUD')\n",
    "print(result)"
   ]
  },
  {
   "cell_type": "code",
   "execution_count": 65,
   "metadata": {},
   "outputs": [
    {
     "name": "stdout",
     "output_type": "stream",
     "text": [
      "{'student': {'id': '1234', 'name': 'STUD'}}\n"
     ]
    }
   ],
   "source": [
    "import re\n",
    "rule = '(?P<id>\\d{4})(?P<name>\\w{4})'\n",
    "text = '1234STUD'\n",
    "m = re.search(rule, text)\n",
    "result = {'student': m.groupdict()}\n",
    "print(result)"
   ]
  },
  {
   "cell_type": "code",
   "execution_count": null,
   "metadata": {},
   "outputs": [],
   "source": []
  },
  {
   "cell_type": "code",
   "execution_count": 75,
   "metadata": {},
   "outputs": [
    {
     "name": "stdout",
     "output_type": "stream",
     "text": [
      "['abcde', 'qwerty', 'xyz', 'fghi', 'asdf', 'yuiop']\n"
     ]
    }
   ],
   "source": [
    "d = { \"id\" : \"abcde\",\n",
    "    \"key1\" : \"blah\",\n",
    "    \"key2\" : \"blah blah\",\n",
    "    \"nestedlist\" : [\n",
    "    { \"id\" : \"qwerty\",\n",
    "        \"nestednestedlist\" : [\n",
    "        { \"id\" : \"xyz\", \"keyA\" : \"blah blah blah\" },\n",
    "        { \"id\" : \"fghi\", \"keyZ\" : \"blah blah blah\" }],\n",
    "        \"anothernestednestedlist\" : [\n",
    "        { \"id\" : \"asdf\", \"keyQ\" : \"blah blah\" },\n",
    "        { \"id\" : \"yuiop\", \"keyW\" : \"blah\" }] } ] }\n",
    "\n",
    "\n",
    "def findkeys(node, kv):\n",
    "    if isinstance(node, list):\n",
    "        for i in node:\n",
    "            for x in findkeys(i, kv):\n",
    "               yield x\n",
    "    elif isinstance(node, dict):\n",
    "        if kv in node:\n",
    "            yield node[kv]\n",
    "        for j in node.values():\n",
    "            for x in findkeys(j, kv):\n",
    "                yield x\n",
    "\n",
    "print(list(findkeys(d, 'id')))"
   ]
  },
  {
   "cell_type": "code",
   "execution_count": null,
   "metadata": {},
   "outputs": [],
   "source": []
  }
 ],
 "metadata": {
  "kernelspec": {
   "display_name": "Python 3",
   "language": "python",
   "name": "python3"
  },
  "language_info": {
   "codemirror_mode": {
    "name": "ipython",
    "version": 3
   },
   "file_extension": ".py",
   "mimetype": "text/x-python",
   "name": "python",
   "nbconvert_exporter": "python",
   "pygments_lexer": "ipython3",
   "version": "3.8.5"
  }
 },
 "nbformat": 4,
 "nbformat_minor": 4
}
