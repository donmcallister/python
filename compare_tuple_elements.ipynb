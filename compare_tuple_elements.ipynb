{
 "cells": [
  {
   "cell_type": "markdown",
   "metadata": {},
   "source": [
    "# Compare elements of tuples"
   ]
  },
  {
   "cell_type": "markdown",
   "metadata": {},
   "source": [
    "## conditional comparison"
   ]
  },
  {
   "cell_type": "code",
   "execution_count": 1,
   "metadata": {},
   "outputs": [
    {
     "name": "stdout",
     "output_type": "stream",
     "text": [
      "Index 0 match: 1\n",
      "Index 1 no match: 2 vs 4\n"
     ]
    }
   ],
   "source": [
    "a = (1, 2, 3)\n",
    "b = (1, 4, 3)\n",
    "\n",
    "for idx, (i, j) in enumerate(zip(a, b)):\n",
    "    if i == j:\n",
    "        print(f'Index {idx} match: {i}')\n",
    "    else:\n",
    "        print(f'Index {idx} no match: {i} vs {j}')\n",
    "        break\n"
   ]
  },
  {
   "cell_type": "markdown",
   "metadata": {},
   "source": [
    "## Elementwise comprehension with zip:"
   ]
  },
  {
   "cell_type": "code",
   "execution_count": 3,
   "metadata": {},
   "outputs": [
    {
     "data": {
      "text/plain": [
       "(True, False, True)"
      ]
     },
     "execution_count": 3,
     "metadata": {},
     "output_type": "execute_result"
    }
   ],
   "source": [
    "res = tuple(i == j for i, j in zip(a, b))\n",
    "res"
   ]
  },
  {
   "cell_type": "markdown",
   "metadata": {},
   "source": [
    "## Numpy"
   ]
  },
  {
   "cell_type": "code",
   "execution_count": 16,
   "metadata": {},
   "outputs": [
    {
     "data": {
      "text/plain": [
       "array([ True, False,  True])"
      ]
     },
     "execution_count": 16,
     "metadata": {},
     "output_type": "execute_result"
    }
   ],
   "source": [
    "import numpy as np\n",
    "\n",
    "res = np.array(a) == np.array(b)\n",
    "res"
   ]
  },
  {
   "cell_type": "markdown",
   "metadata": {},
   "source": [
    "## Comparing all elements of two tuples"
   ]
  },
  {
   "cell_type": "code",
   "execution_count": 25,
   "metadata": {},
   "outputs": [
    {
     "data": {
      "text/plain": [
       "False"
      ]
     },
     "execution_count": 25,
     "metadata": {},
     "output_type": "execute_result"
    }
   ],
   "source": [
    "a = (1, 2, 3)\n",
    "b = (1, 4, 3)\n",
    "[(a < b) for a, b in zip(a,b)] #can use any or all on the list"
   ]
  },
  {
   "cell_type": "markdown",
   "metadata": {},
   "source": [
    "## sort list of words from longest to shortest:"
   ]
  },
  {
   "cell_type": "code",
   "execution_count": 27,
   "metadata": {},
   "outputs": [
    {
     "data": {
      "text/plain": [
       "['Mississippi', 'Abracadabra', 'Bravo', 'Levi', 'cat', 'Nin', 'a']"
      ]
     },
     "execution_count": 27,
     "metadata": {},
     "output_type": "execute_result"
    }
   ],
   "source": [
    "words = [\"Abracadabra\", \"Nin\", \"a\", \"Bravo\", \"Mississippi\", \"Levi\", \"cat\"]\n",
    "def sort_by_length(words):\n",
    "    t = []\n",
    "    for word in words:\n",
    "       t.append((len(word), word))\n",
    "\n",
    "    t.sort(reverse=True)\n",
    "\n",
    "    res = []\n",
    "    for length, word in t:\n",
    "        res.append(word)\n",
    "    return res\n",
    "sort_by_length(words)"
   ]
  },
  {
   "cell_type": "markdown",
   "metadata": {},
   "source": [
    "## compare tuple element from keys of a dictionary\n",
    "- i want to calculate the distance between each key and another by counting the number of non similar element from the tuple. the distance between the tuple (1,0,0) and (1,1,1) is 2."
   ]
  },
  {
   "cell_type": "code",
   "execution_count": 29,
   "metadata": {},
   "outputs": [
    {
     "name": "stdout",
     "output_type": "stream",
     "text": [
      "Distance from (1, 0, 1, 1, 0, 0, 1, 1, 0, 1) to (1, 1, 0, 1, 0, 1, 1, 1, 0, 0) is 4\n"
     ]
    }
   ],
   "source": [
    "dict={(1,0,1,1,0,0,1,1,0,1):8, (1,1,0,1,0,1,1,1,0,0):48}\n",
    "keys = list(dict)\n",
    "\n",
    "for i in range(len(keys)):\n",
    "    for j in range(i+1, len(keys)):\n",
    "        count = 0\n",
    "        for k in range(10):\n",
    "            if keys[i][k] != keys[j][k]:\n",
    "                count += 1\n",
    "        print (\"Distance from %s to %s is %d\" % (keys[i], keys[j], count))"
   ]
  },
  {
   "cell_type": "markdown",
   "metadata": {},
   "source": [
    "## Comparing dictionaries of tuples and lists:"
   ]
  },
  {
   "cell_type": "code",
   "execution_count": 36,
   "metadata": {},
   "outputs": [
    {
     "data": {
      "text/plain": [
       "[((68, 69), ('A', ('T', 'G'))), ((10, 11), ('C', ('T',)))]"
      ]
     },
     "execution_count": 36,
     "metadata": {},
     "output_type": "execute_result"
    }
   ],
   "source": [
    "# >>> \n",
    "Dict1 = {(10, 11): ('C', ('T',)),\n",
    " (20, 21): ('C', ('T',)),\n",
    " (34, 35): ('G', ('A',)),\n",
    " (68, 69): ('A', ('T', 'G'))}\n",
    "\n",
    "# >>> \n",
    "Dict2 = {(10, 11): ('C', ('T',)),\n",
    " (20, 21): ('C', ('A',)),\n",
    " (40, 41): ('T', ('G',)),\n",
    " (68, 69): ('A', ('T', 'G'))}\n",
    "\n",
    "# Then you could simple do:\n",
    "same_pairs = list(Dict1.items() & Dict2.items())\n",
    "\n",
    "same_pairs\n",
    "# [((68, 69), ('A', ('T', 'G'))), ((10, 11), ('C', ('T',)))]"
   ]
  },
  {
   "cell_type": "markdown",
   "metadata": {},
   "source": [
    " If you want pairs where both key and value are unique, you would need to use dict1.keys() - dict2.keys() to get the keys, and then find their values in a loop"
   ]
  },
  {
   "cell_type": "code",
   "execution_count": 45,
   "metadata": {},
   "outputs": [
    {
     "name": "stdout",
     "output_type": "stream",
     "text": [
      "[(34, 35)] ('G', ('A',))\n"
     ]
    }
   ],
   "source": [
    "unique_pairs = list(Dict1.keys() - Dict2.keys())\n",
    "print(unique_pairs, Dict1[unique_pairs[0]])"
   ]
  },
  {
   "cell_type": "markdown",
   "metadata": {},
   "source": [
    "## Sort a list of tuples by 2nd item (integer value)"
   ]
  },
  {
   "cell_type": "code",
   "execution_count": 46,
   "metadata": {},
   "outputs": [
    {
     "data": {
      "text/plain": [
       "[('abc', 121), ('abc', 148), ('abc', 221), ('abc', 231)]"
      ]
     },
     "execution_count": 46,
     "metadata": {},
     "output_type": "execute_result"
    }
   ],
   "source": [
    "L = [('abc', 121),('abc', 231),('abc', 148), ('abc',221)]\n",
    "sorted([('abc', 121),('abc', 231),('abc', 148), ('abc',221)], key=lambda x: x[1])"
   ]
  },
  {
   "cell_type": "markdown",
   "metadata": {},
   "source": [
    "### itemgetter"
   ]
  },
  {
   "cell_type": "code",
   "execution_count": 60,
   "metadata": {},
   "outputs": [
    {
     "data": {
      "text/plain": [
       "[('abc', 231), ('abc', 221), ('abc', 148), ('abc', 121)]"
      ]
     },
     "execution_count": 60,
     "metadata": {},
     "output_type": "execute_result"
    }
   ],
   "source": [
    "from operator import itemgetter\n",
    "sorted(L,key=itemgetter(1), reverse=True)"
   ]
  },
  {
   "cell_type": "code",
   "execution_count": 61,
   "metadata": {},
   "outputs": [
    {
     "data": {
      "text/plain": [
       "(4, 2)"
      ]
     },
     "execution_count": 61,
     "metadata": {},
     "output_type": "execute_result"
    }
   ],
   "source": [
    "itemgetter(2, 1)((0, 2, 4)) #can call on tuple directly! = (4,2)\n",
    "#sorted(tuple_list, key=itemgetter(2, 1))"
   ]
  },
  {
   "cell_type": "code",
   "execution_count": 57,
   "metadata": {},
   "outputs": [
    {
     "data": {
      "text/plain": [
       "[('abc', 121), ('abc', 148), ('abc', 221), ('abc', 231)]"
      ]
     },
     "execution_count": 57,
     "metadata": {},
     "output_type": "execute_result"
    }
   ],
   "source": [
    "#avoiding lambda:\n",
    "def MyFn(a):\n",
    "    return a[1]\n",
    "sorted([('abc', 121),('abc', 231),('abc', 148), ('abc',221)], key=MyFn)"
   ]
  },
  {
   "cell_type": "markdown",
   "metadata": {},
   "source": [
    "## Sort a list of strings by its length, key=len"
   ]
  },
  {
   "cell_type": "code",
   "execution_count": 58,
   "metadata": {},
   "outputs": [
    {
     "name": "stdout",
     "output_type": "stream",
     "text": [
      "['Rome', 'Paris', 'Munich', 'Barcelona']\n"
     ]
    }
   ],
   "source": [
    "cities = ['Munich', 'Rome', 'Barcelona', 'Paris']\n",
    "\n",
    "# Sort strings by length ascending order\n",
    "cities_sorted = sorted(cities, key=len)\n",
    "print(cities_sorted)"
   ]
  },
  {
   "cell_type": "markdown",
   "metadata": {},
   "source": [
    "## Sort list by number of vowels:"
   ]
  },
  {
   "cell_type": "code",
   "execution_count": 59,
   "metadata": {},
   "outputs": [
    {
     "name": "stdout",
     "output_type": "stream",
     "text": [
      "['Li', 'Ana', 'Paula', 'Amanda', 'Amaranta']\n"
     ]
    }
   ],
   "source": [
    "# function defined with def \n",
    "def num_vowel(x):\n",
    "  cnt = 0\n",
    "  for char in x.lower():\n",
    "    if char in ['a', 'e', 'i', 'o', 'u']:\n",
    "      cnt += 1\n",
    "  return cnt\n",
    "\n",
    "names = ['Paula', 'Amanda', 'Ana', 'Amaranta', 'Li']\n",
    "\n",
    "names_sorted = sorted(names, key=num_vowel)\n",
    "\n",
    "print(names_sorted)"
   ]
  },
  {
   "cell_type": "markdown",
   "metadata": {},
   "source": [
    "# split concatenated string into tuple"
   ]
  },
  {
   "cell_type": "code",
   "execution_count": 62,
   "metadata": {},
   "outputs": [
    {
     "data": {
      "text/plain": [
       "('str1', 'str2', 'str3')"
      ]
     },
     "execution_count": 62,
     "metadata": {},
     "output_type": "execute_result"
    }
   ],
   "source": [
    "my_str = 'str1;str2;str3;'\n",
    "tuple(my_str.split(';')[:-1])"
   ]
  },
  {
   "cell_type": "code",
   "execution_count": 65,
   "metadata": {},
   "outputs": [
    {
     "data": {
      "text/plain": [
       "['str1', 'str2', 'str3']"
      ]
     },
     "execution_count": 65,
     "metadata": {},
     "output_type": "execute_result"
    }
   ],
   "source": [
    "lis=[x for x in my_str.split(';') if x]\n",
    "lis"
   ]
  },
  {
   "cell_type": "markdown",
   "metadata": {},
   "source": [
    "### Building a list with regex, Counter"
   ]
  },
  {
   "cell_type": "code",
   "execution_count": 66,
   "metadata": {},
   "outputs": [
    {
     "data": {
      "text/plain": [
       "['MK320', 'MK180', 'FM340', 'SH230', 'LL2', 'HHH22', 'TGF22']"
      ]
     },
     "execution_count": 66,
     "metadata": {},
     "output_type": "execute_result"
    }
   ],
   "source": [
    "import re\n",
    "\n",
    "my_str = 'MK320MK180FM340SH230LL2HHH22TGF22'\n",
    "re.findall('[A-Za-z]+\\d+', my_str)\n",
    "# ['MK320', 'MK180', 'FM340', 'SH230', 'LL2', 'HHH22', 'TGF22']"
   ]
  },
  {
   "cell_type": "code",
   "execution_count": 71,
   "metadata": {},
   "outputs": [
    {
     "data": {
      "text/plain": [
       "Counter({'MK320': 1,\n",
       "         'MK180': 1,\n",
       "         'FM340': 1,\n",
       "         'SH230': 1,\n",
       "         'LL2': 1,\n",
       "         'HHH22': 1,\n",
       "         'TGF22': 1})"
      ]
     },
     "execution_count": 71,
     "metadata": {},
     "output_type": "execute_result"
    }
   ],
   "source": [
    "from collections import Counter\n",
    "word_list = re.findall('[A-Za-z]+\\d+', my_str)\n",
    "Counter(word_list)"
   ]
  },
  {
   "cell_type": "markdown",
   "metadata": {},
   "source": [
    "## Convert tuple to string"
   ]
  },
  {
   "cell_type": "code",
   "execution_count": 72,
   "metadata": {},
   "outputs": [
    {
     "data": {
      "text/plain": [
       "('1', '2', '3')"
      ]
     },
     "execution_count": 72,
     "metadata": {},
     "output_type": "execute_result"
    }
   ],
   "source": [
    "item = (1,2,3)\n",
    "tuple(map(str, item))"
   ]
  },
  {
   "cell_type": "code",
   "execution_count": 74,
   "metadata": {},
   "outputs": [
    {
     "data": {
      "text/plain": [
       "'1 2 3'"
      ]
     },
     "execution_count": 74,
     "metadata": {},
     "output_type": "execute_result"
    }
   ],
   "source": [
    "' '.join(map(str, item))"
   ]
  },
  {
   "cell_type": "code",
   "execution_count": 75,
   "metadata": {},
   "outputs": [
    {
     "data": {
      "text/plain": [
       "b'\\x00\\x01\\x02\\x03\\x04\\x05\\x06\\x07\\x08\\t'"
      ]
     },
     "execution_count": 75,
     "metadata": {},
     "output_type": "execute_result"
    }
   ],
   "source": [
    "bytes(tuple([0, 1, 2, 3, 4, 5, 6, 7, 8, 9]))"
   ]
  },
  {
   "cell_type": "code",
   "execution_count": 76,
   "metadata": {},
   "outputs": [
    {
     "data": {
      "text/plain": [
       "b'\\x00\\x01\\x02\\x03\\x04\\x05\\x06\\x07\\x08\\t'"
      ]
     },
     "execution_count": 76,
     "metadata": {},
     "output_type": "execute_result"
    }
   ],
   "source": [
    "bytes(range(10))"
   ]
  },
  {
   "cell_type": "code",
   "execution_count": 77,
   "metadata": {},
   "outputs": [
    {
     "data": {
      "text/plain": [
       "[('1', '2', '3'), ('4', '5', '6')]"
      ]
     },
     "execution_count": 77,
     "metadata": {},
     "output_type": "execute_result"
    }
   ],
   "source": [
    "data = [(1,2,3),(4,5,6)]\n",
    "[tuple([str(x) for x in item]) for item in data]"
   ]
  },
  {
   "cell_type": "code",
   "execution_count": null,
   "metadata": {},
   "outputs": [],
   "source": []
  }
 ],
 "metadata": {
  "kernelspec": {
   "display_name": "Python 3",
   "language": "python",
   "name": "python3"
  },
  "language_info": {
   "codemirror_mode": {
    "name": "ipython",
    "version": 3
   },
   "file_extension": ".py",
   "mimetype": "text/x-python",
   "name": "python",
   "nbconvert_exporter": "python",
   "pygments_lexer": "ipython3",
   "version": "3.8.5"
  }
 },
 "nbformat": 4,
 "nbformat_minor": 4
}
