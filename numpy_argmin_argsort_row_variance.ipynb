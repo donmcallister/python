{
 "cells": [
  {
   "cell_type": "markdown",
   "metadata": {},
   "source": [
    "### Exercise to find random number in array that is closest to 0.75\n",
    "Generate a 10 x 3 array of random numbers. From each row, pick the number closest to 0.75. \n",
    "- Make use of `np.abs` and `np.argmin` to find the column j which contains the closest element in each row. The final result should be a vector of shape (10,).\n",
    "- https://github.com/jni/scipy-japan-2019/blob/master/Advanced%20NumPy%20Patterns%20Solved.ipynb"
   ]
  },
  {
   "cell_type": "code",
   "execution_count": 17,
   "metadata": {},
   "outputs": [],
   "source": [
    "import pandas as pd\n",
    "import numpy as np"
   ]
  },
  {
   "cell_type": "code",
   "execution_count": 18,
   "metadata": {},
   "outputs": [
    {
     "name": "stdout",
     "output_type": "stream",
     "text": [
      "[[0.83888101 0.11681351 0.25379449]\n",
      " [0.04350057 0.94501905 0.93086826]\n",
      " [0.6610606  0.82460235 0.47889412]\n",
      " [0.48195005 0.97147805 0.62951074]\n",
      " [0.40884307 0.32692084 0.6630802 ]\n",
      " [0.14773956 0.25357539 0.35842251]\n",
      " [0.37914274 0.39294166 0.03462409]\n",
      " [0.47646374 0.51837595 0.92807624]\n",
      " [0.06249777 0.62796339 0.04189638]\n",
      " [0.07730699 0.39331216 0.00665617]]\n"
     ]
    }
   ],
   "source": [
    "arr = np.random.random((10,3)) \n",
    "print(rand) #<class 'numpy.ndarray'>"
   ]
  },
  {
   "cell_type": "code",
   "execution_count": 19,
   "metadata": {},
   "outputs": [],
   "source": [
    "# np.argmin is position of min along an array\n",
    "# 10 random numbers, want number closest to 0.75 per row"
   ]
  },
  {
   "cell_type": "code",
   "execution_count": 20,
   "metadata": {},
   "outputs": [
    {
     "name": "stdout",
     "output_type": "stream",
     "text": [
      "[[0.19123765 0.17314919 0.02099066]\n",
      " [0.02516548 0.06644262 0.05506866]\n",
      " [0.04680132 0.66260759 0.36358385]\n",
      " [0.22663667 0.46482601 0.61086014]\n",
      " [0.45744804 0.08374571 0.12928087]\n",
      " [0.05928417 0.19957409 0.69017811]\n",
      " [0.14157494 0.42756975 0.02765956]\n",
      " [0.0694065  0.59963327 0.24095228]\n",
      " [0.6278918  0.16035859 0.40215627]\n",
      " [0.15704862 0.03005279 0.09022196]]\n"
     ]
    }
   ],
   "source": [
    "#distance from every number to 0.75 in the matrix:\n",
    "dist75 = np.abs(arr - 0.75)\n",
    "print(dist75)"
   ]
  },
  {
   "cell_type": "code",
   "execution_count": 21,
   "metadata": {},
   "outputs": [
    {
     "ename": "SyntaxError",
     "evalue": "invalid syntax (<ipython-input-21-3fb3ae75e781>, line 1)",
     "output_type": "error",
     "traceback": [
      "\u001b[0;36m  File \u001b[0;32m\"<ipython-input-21-3fb3ae75e781>\"\u001b[0;36m, line \u001b[0;32m1\u001b[0m\n\u001b[0;31m    np.argmin?\u001b[0m\n\u001b[0m             ^\u001b[0m\n\u001b[0;31mSyntaxError\u001b[0m\u001b[0;31m:\u001b[0m invalid syntax\n"
     ]
    }
   ],
   "source": [
    "np.argmin? \n",
    "#Signature: np.argmin(a, axis=None, out=None)\n",
    "#Docstring:\n",
    "#Returns the indices of the minimum values along an axis."
   ]
  },
  {
   "cell_type": "markdown",
   "metadata": {},
   "source": [
    "## argmin with axis = 0"
   ]
  },
  {
   "cell_type": "code",
   "execution_count": 22,
   "metadata": {},
   "outputs": [
    {
     "data": {
      "text/plain": [
       "2"
      ]
     },
     "execution_count": 22,
     "metadata": {},
     "output_type": "execute_result"
    }
   ],
   "source": [
    "np.argmin(dist75) #gives single location of smallest value in entire matrix"
   ]
  },
  {
   "cell_type": "markdown",
   "metadata": {},
   "source": [
    "## argmin with axis = 1"
   ]
  },
  {
   "cell_type": "code",
   "execution_count": 23,
   "metadata": {},
   "outputs": [
    {
     "data": {
      "text/plain": [
       "array([2, 0, 0, 0, 1, 0, 2, 0, 1, 1])"
      ]
     },
     "execution_count": 23,
     "metadata": {},
     "output_type": "execute_result"
    }
   ],
   "source": [
    "np.argmin(dist75, axis=1) #gives location per row"
   ]
  },
  {
   "cell_type": "markdown",
   "metadata": {},
   "source": [
    "### Exercise finding variance across rows, using argsort: \n",
    "Some applications, such as clustering, are computationally expensive, and wouldn't work without first doing some form of feature selection, where we discard most of the data and keep only what we think will be most useful. One simple version is to keep only the genes with the most variance (as these will be more informative than genes that don't vary between patients).\n",
    "\n",
    "Find the variance across patients of all the genes (rows) in the expression dataset.\n",
    "Use np.argsort to find the location of the 1,500 most variable genes.\n",
    "Use these indices to produce a shape (1500, 375) matrix containing only the most variable genes."
   ]
  },
  {
   "cell_type": "code",
   "execution_count": 26,
   "metadata": {},
   "outputs": [],
   "source": [
    "# if row doesn't vary much and is flat it might not yield any info\n",
    "# so we can not include in analysis\n",
    "#higher variance might be more useful.. "
   ]
  },
  {
   "cell_type": "code",
   "execution_count": 27,
   "metadata": {},
   "outputs": [],
   "source": [
    "np.var?"
   ]
  },
  {
   "cell_type": "code",
   "execution_count": 28,
   "metadata": {},
   "outputs": [],
   "source": [
    "# row_variance = np.var(expr, axis=1)"
   ]
  },
  {
   "cell_type": "code",
   "execution_count": 29,
   "metadata": {},
   "outputs": [],
   "source": [
    "# row_variance.shape  \n",
    "#(20500,) so it gives one value of variance per row"
   ]
  },
  {
   "cell_type": "code",
   "execution_count": 30,
   "metadata": {},
   "outputs": [],
   "source": [
    "#find the most variable ones: the location\n",
    "np.argsort? #Returns the indices (in array) that would sort an array"
   ]
  },
  {
   "cell_type": "code",
   "execution_count": 31,
   "metadata": {},
   "outputs": [],
   "source": [
    "# row_variance_order = np.argsort(row_variance) #values smallest to biggest"
   ]
  },
  {
   "cell_type": "code",
   "execution_count": 32,
   "metadata": {},
   "outputs": [],
   "source": [
    "# most_variable_rows = row_variance_order[-1500:] #1500 most variable"
   ]
  },
  {
   "cell_type": "code",
   "execution_count": 33,
   "metadata": {},
   "outputs": [],
   "source": [
    "# most_variable_data = expr[most_variable_rows]"
   ]
  },
  {
   "cell_type": "code",
   "execution_count": null,
   "metadata": {},
   "outputs": [],
   "source": [
    "#most_variable_data.shape\n",
    "#(1500, 375) which is the right shape!! "
   ]
  }
 ],
 "metadata": {
  "kernelspec": {
   "display_name": "Python 3",
   "language": "python",
   "name": "python3"
  },
  "language_info": {
   "codemirror_mode": {
    "name": "ipython",
    "version": 3
   },
   "file_extension": ".py",
   "mimetype": "text/x-python",
   "name": "python",
   "nbconvert_exporter": "python",
   "pygments_lexer": "ipython3",
   "version": "3.8.5"
  }
 },
 "nbformat": 4,
 "nbformat_minor": 4
}
