{
 "cells": [
  {
   "cell_type": "markdown",
   "metadata": {},
   "source": [
    "### Problem: Given an array of integers, return indices of the two numbers such that they add up to a specific target. You may assume that each input would have exactly one solution, and you may not use the same element twice.\n",
    "\n",
    "We investigate three different approaches to solving this problem. \n",
    "\n",
    "Method 1: A brute-force approach that takes O(n^2) time to solve with O(1) space. We loop through the array and create all possible pairings of elements. \n",
    "\n",
    "Method 2: A slightly better approach time-wise, taking O(n) time, but worse from a space standpoint, with a space complexity of O(n). In this approach, we make use of an auxiliary hash table to keep track of whether it's possible to construct the target based on the elements we've processed thus far in the array. \n",
    "\n",
    "Method 3: This approach has a time complexity of O(n) and a constant space complexity, O(1). Here, we have two indices that we keep track of, one at the front and one at the back. We move either the left or right indices based on whether the sum of the elements at these indices is either greater or lesser than the target element."
   ]
  },
  {
   "cell_type": "code",
   "execution_count": 3,
   "metadata": {},
   "outputs": [],
   "source": [
    "A = [-2, 1, 2, 4, 7, 11]\n",
    "target = 13"
   ]
  },
  {
   "cell_type": "code",
   "execution_count": 5,
   "metadata": {},
   "outputs": [
    {
     "name": "stdout",
     "output_type": "stream",
     "text": [
      "2 11\n",
      "True\n"
     ]
    }
   ],
   "source": [
    "# Time Complexity: O(n^2) - we have two loops, n is size of array\n",
    "# Space Complexity: O(1) - a constant, not using any auxiliary data structures to store anything.. \n",
    "def two_sum_brute_force(A, target):\n",
    "    for i in range(len(A) - 1):         #loop through A\n",
    "        for j in range(i+1, len(A)):    #loop through i+1 in A: the remaining elements\n",
    "            if A[i] + A[j] == target:   \n",
    "                print(A[i], A[j])\n",
    "                return True\n",
    "    return False \n",
    "        \n",
    "print(two_sum_brute_force(A, target))"
   ]
  },
  {
   "cell_type": "code",
   "execution_count": 6,
   "metadata": {},
   "outputs": [
    {
     "name": "stdout",
     "output_type": "stream",
     "text": [
      "2 11\n"
     ]
    },
    {
     "data": {
      "text/plain": [
       "True"
      ]
     },
     "execution_count": 6,
     "metadata": {},
     "output_type": "execute_result"
    }
   ],
   "source": [
    "#Time complexity: O(n) since only looping through once. \n",
    "#Space complexity: O(n) because storing dict object\n",
    "def two_sum_hash_table(A, target):\n",
    "    ht = dict()\n",
    "    for i in range(len(A)):\n",
    "        if A[i] in ht:\n",
    "            print(ht[A[i]], A[i])\n",
    "            return True\n",
    "        else: \n",
    "            ht[target - A[i]] = A[i]\n",
    "    return False\n",
    "two_sum_hash_table(A, target)"
   ]
  },
  {
   "cell_type": "code",
   "execution_count": 8,
   "metadata": {},
   "outputs": [
    {
     "name": "stdout",
     "output_type": "stream",
     "text": [
      "2 11\n"
     ]
    },
    {
     "data": {
      "text/plain": [
       "True"
      ]
     },
     "execution_count": 8,
     "metadata": {},
     "output_type": "execute_result"
    }
   ],
   "source": [
    "#soln that takes linear amount of time and constant space: O(n), O(1)\n",
    "#take advantage that elements are sorted. two iterators i (start), j (end element)\n",
    "def two_sum(A, target):\n",
    "    i = 0\n",
    "    j = len(A) - 1\n",
    "    \n",
    "    while i <= j:\n",
    "        if A[i] + A[j] == target:\n",
    "            print(A[i], A[j])\n",
    "            return True\n",
    "        elif A[i] + A[j] < target:\n",
    "            #move i up one:\n",
    "            i += 1\n",
    "        else: # < target\n",
    "            j -= 1\n",
    "    return False\n",
    "\n",
    "two_sum(A, target)    "
   ]
  },
  {
   "cell_type": "code",
   "execution_count": 21,
   "metadata": {},
   "outputs": [
    {
     "name": "stdout",
     "output_type": "stream",
     "text": [
      "items reaching target: 2 11\n",
      "their indices: 2 5\n"
     ]
    },
    {
     "data": {
      "text/plain": [
       "True"
      ]
     },
     "execution_count": 21,
     "metadata": {},
     "output_type": "execute_result"
    }
   ],
   "source": [
    "#brute force from stackoverflow:\n",
    "def twoSum(nums, target):\n",
    "        for i, a in enumerate(nums, start=0):\n",
    "            for j, b in enumerate(nums[i+1:], start=0):\n",
    "                if(a + b) == target:\n",
    "                    print(\"items reaching target:\",a,b)\n",
    "                    print(\"their indices:\", i, j+i+1)\n",
    "                    return True\n",
    "        return False\n",
    "twoSum(A, target) #target = 13"
   ]
  },
  {
   "cell_type": "markdown",
   "metadata": {},
   "source": [
    "# Itertools, combinations"
   ]
  },
  {
   "cell_type": "code",
   "execution_count": 29,
   "metadata": {},
   "outputs": [
    {
     "data": {
      "text/plain": [
       "[(2, 11)]"
      ]
     },
     "execution_count": 29,
     "metadata": {},
     "output_type": "execute_result"
    }
   ],
   "source": [
    "#Find all combinations of a range of numbers [lst], \n",
    "# where each lst contains N number of elements, and that sum up to K: use this:\n",
    "\n",
    "#EXAMPLE: monthly cost range; unique numbers\n",
    "# L = list(range(10, 30))\n",
    "# #sum of annual revenue per machine/customer\n",
    "# K = 200\n",
    "# #number of months (12 - 9 = num months free)\n",
    "# N = 9\n",
    "\n",
    "from itertools import combinations \n",
    "\n",
    "A = [-2, 1, 2, 4, 7, 11]\n",
    "target = 13\n",
    "\n",
    "def findPairs(L, K, N): \n",
    "    return [pair for pair in combinations(L, N) if sum(pair) == K] \n",
    "\n",
    "findPairs(A, target, N=2)"
   ]
  },
  {
   "cell_type": "code",
   "execution_count": null,
   "metadata": {},
   "outputs": [],
   "source": []
  }
 ],
 "metadata": {
  "kernelspec": {
   "display_name": "Python 3",
   "language": "python",
   "name": "python3"
  },
  "language_info": {
   "codemirror_mode": {
    "name": "ipython",
    "version": 3
   },
   "file_extension": ".py",
   "mimetype": "text/x-python",
   "name": "python",
   "nbconvert_exporter": "python",
   "pygments_lexer": "ipython3",
   "version": "3.8.5"
  }
 },
 "nbformat": 4,
 "nbformat_minor": 4
}
