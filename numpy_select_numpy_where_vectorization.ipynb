{
 "cells": [
  {
   "cell_type": "code",
   "execution_count": 56,
   "metadata": {},
   "outputs": [],
   "source": [
    "import pandas as pd\n",
    "import numpy as np\n",
    "import re\n",
    "import time\n",
    "# https://www.kaggle.com/ceshine/1000x-faster-data-manipulation/notebook"
   ]
  },
  {
   "cell_type": "code",
   "execution_count": 2,
   "metadata": {},
   "outputs": [],
   "source": [
    "pd.set_option('max_columns', 15)\n",
    "pd.set_option('chained_assignment', None)"
   ]
  },
  {
   "cell_type": "code",
   "execution_count": 3,
   "metadata": {},
   "outputs": [],
   "source": [
    "df = pd.read_csv('sample_data_pygotham2019.csv', \n",
    "                 parse_dates=['Date Created', 'Original Record: Date Created'])"
   ]
  },
  {
   "cell_type": "code",
   "execution_count": 4,
   "metadata": {},
   "outputs": [
    {
     "data": {
      "text/plain": [
       "(273399, 14)"
      ]
     },
     "execution_count": 4,
     "metadata": {},
     "output_type": "execute_result"
    }
   ],
   "source": [
    "df.shape"
   ]
  },
  {
   "cell_type": "code",
   "execution_count": 5,
   "metadata": {},
   "outputs": [
    {
     "data": {
      "text/html": [
       "<div>\n",
       "<style scoped>\n",
       "    .dataframe tbody tr th:only-of-type {\n",
       "        vertical-align: middle;\n",
       "    }\n",
       "\n",
       "    .dataframe tbody tr th {\n",
       "        vertical-align: top;\n",
       "    }\n",
       "\n",
       "    .dataframe thead th {\n",
       "        text-align: right;\n",
       "    }\n",
       "</style>\n",
       "<table border=\"1\" class=\"dataframe\">\n",
       "  <thead>\n",
       "    <tr style=\"text-align: right;\">\n",
       "      <th></th>\n",
       "      <th>Internal ID</th>\n",
       "      <th>ID</th>\n",
       "      <th>Category</th>\n",
       "      <th>Lead Source</th>\n",
       "      <th>Lead Source Category</th>\n",
       "      <th>Current Status</th>\n",
       "      <th>Status at Time of Lead</th>\n",
       "      <th>Original Record: Date Created</th>\n",
       "      <th>Date Created</th>\n",
       "      <th>Inactive</th>\n",
       "      <th>Specialty</th>\n",
       "      <th>Providers</th>\n",
       "      <th>duplicate_leads</th>\n",
       "      <th>bad_leads</th>\n",
       "    </tr>\n",
       "  </thead>\n",
       "  <tbody>\n",
       "    <tr>\n",
       "      <th>0</th>\n",
       "      <td>16</td>\n",
       "      <td>1966</td>\n",
       "      <td>Practice</td>\n",
       "      <td>Nonpaid : Email : Webinar : Efficiency Kiosk A...</td>\n",
       "      <td>- None -</td>\n",
       "      <td>CLIENT-Deactivated</td>\n",
       "      <td>- None -</td>\n",
       "      <td>2003-04-30 18:15:00</td>\n",
       "      <td>2015-08-14 15:18:00</td>\n",
       "      <td>No</td>\n",
       "      <td>Dermatology</td>\n",
       "      <td>0.0</td>\n",
       "      <td>False</td>\n",
       "      <td>True</td>\n",
       "    </tr>\n",
       "    <tr>\n",
       "      <th>1</th>\n",
       "      <td>16</td>\n",
       "      <td>6213</td>\n",
       "      <td>Practice</td>\n",
       "      <td>Nonpaid : Email : Webinar : Efficiency Kiosk A...</td>\n",
       "      <td>- None -</td>\n",
       "      <td>CLIENT-Deactivated</td>\n",
       "      <td>- None -</td>\n",
       "      <td>2003-04-30 18:15:00</td>\n",
       "      <td>2015-08-14 15:18:00</td>\n",
       "      <td>No</td>\n",
       "      <td>Dermatology</td>\n",
       "      <td>0.0</td>\n",
       "      <td>True</td>\n",
       "      <td>True</td>\n",
       "    </tr>\n",
       "    <tr>\n",
       "      <th>2</th>\n",
       "      <td>16</td>\n",
       "      <td>6936</td>\n",
       "      <td>Practice</td>\n",
       "      <td>Nonpaid : Webinar : AdvancedFax and Patient : ...</td>\n",
       "      <td>- None -</td>\n",
       "      <td>CLIENT-Deactivated</td>\n",
       "      <td>- None -</td>\n",
       "      <td>2003-04-30 18:15:00</td>\n",
       "      <td>2015-12-03 17:33:00</td>\n",
       "      <td>No</td>\n",
       "      <td>Dermatology</td>\n",
       "      <td>0.0</td>\n",
       "      <td>False</td>\n",
       "      <td>True</td>\n",
       "    </tr>\n",
       "    <tr>\n",
       "      <th>3</th>\n",
       "      <td>16</td>\n",
       "      <td>4557</td>\n",
       "      <td>Practice</td>\n",
       "      <td>Nonpaid : Webinar : AdvancedFax and Patient : ...</td>\n",
       "      <td>- None -</td>\n",
       "      <td>CLIENT-Deactivated</td>\n",
       "      <td>- None -</td>\n",
       "      <td>2003-04-30 18:15:00</td>\n",
       "      <td>2015-12-03 17:33:00</td>\n",
       "      <td>No</td>\n",
       "      <td>Dermatology</td>\n",
       "      <td>0.0</td>\n",
       "      <td>True</td>\n",
       "      <td>True</td>\n",
       "    </tr>\n",
       "    <tr>\n",
       "      <th>4</th>\n",
       "      <td>20</td>\n",
       "      <td>8637</td>\n",
       "      <td>Practice</td>\n",
       "      <td>Nonpaid : Webinar : HIPAA Audit Prep : LSID 53...</td>\n",
       "      <td>- None -</td>\n",
       "      <td>CLIENT-Live</td>\n",
       "      <td>CLIENT-Live</td>\n",
       "      <td>2003-04-30 18:15:00</td>\n",
       "      <td>2016-08-24 14:09:00</td>\n",
       "      <td>No</td>\n",
       "      <td>Plastic Surgery</td>\n",
       "      <td>1.0</td>\n",
       "      <td>False</td>\n",
       "      <td>False</td>\n",
       "    </tr>\n",
       "  </tbody>\n",
       "</table>\n",
       "</div>"
      ],
      "text/plain": [
       "   Internal ID    ID  Category  \\\n",
       "0           16  1966  Practice   \n",
       "1           16  6213  Practice   \n",
       "2           16  6936  Practice   \n",
       "3           16  4557  Practice   \n",
       "4           20  8637  Practice   \n",
       "\n",
       "                                         Lead Source Lead Source Category  \\\n",
       "0  Nonpaid : Email : Webinar : Efficiency Kiosk A...             - None -   \n",
       "1  Nonpaid : Email : Webinar : Efficiency Kiosk A...             - None -   \n",
       "2  Nonpaid : Webinar : AdvancedFax and Patient : ...             - None -   \n",
       "3  Nonpaid : Webinar : AdvancedFax and Patient : ...             - None -   \n",
       "4  Nonpaid : Webinar : HIPAA Audit Prep : LSID 53...             - None -   \n",
       "\n",
       "       Current Status Status at Time of Lead Original Record: Date Created  \\\n",
       "0  CLIENT-Deactivated               - None -           2003-04-30 18:15:00   \n",
       "1  CLIENT-Deactivated               - None -           2003-04-30 18:15:00   \n",
       "2  CLIENT-Deactivated               - None -           2003-04-30 18:15:00   \n",
       "3  CLIENT-Deactivated               - None -           2003-04-30 18:15:00   \n",
       "4         CLIENT-Live            CLIENT-Live           2003-04-30 18:15:00   \n",
       "\n",
       "         Date Created Inactive        Specialty  Providers  duplicate_leads  \\\n",
       "0 2015-08-14 15:18:00       No      Dermatology        0.0            False   \n",
       "1 2015-08-14 15:18:00       No      Dermatology        0.0             True   \n",
       "2 2015-12-03 17:33:00       No      Dermatology        0.0            False   \n",
       "3 2015-12-03 17:33:00       No      Dermatology        0.0             True   \n",
       "4 2016-08-24 14:09:00       No  Plastic Surgery        1.0            False   \n",
       "\n",
       "   bad_leads  \n",
       "0       True  \n",
       "1       True  \n",
       "2       True  \n",
       "3       True  \n",
       "4      False  "
      ]
     },
     "execution_count": 5,
     "metadata": {},
     "output_type": "execute_result"
    }
   ],
   "source": [
    "df.head(5)"
   ]
  },
  {
   "cell_type": "code",
   "execution_count": 6,
   "metadata": {},
   "outputs": [
    {
     "data": {
      "text/plain": [
       "Internal ID                               int64\n",
       "ID                                        int64\n",
       "Category                                 object\n",
       "Lead Source                              object\n",
       "Lead Source Category                     object\n",
       "Current Status                           object\n",
       "Status at Time of Lead                   object\n",
       "Original Record: Date Created    datetime64[ns]\n",
       "Date Created                     datetime64[ns]\n",
       "Inactive                                 object\n",
       "Specialty                                object\n",
       "Providers                               float64\n",
       "duplicate_leads                            bool\n",
       "bad_leads                                  bool\n",
       "dtype: object"
      ]
     },
     "execution_count": 6,
     "metadata": {},
     "output_type": "execute_result"
    }
   ],
   "source": [
    "df.dtypes"
   ]
  },
  {
   "cell_type": "code",
   "execution_count": 7,
   "metadata": {},
   "outputs": [],
   "source": [
    "def set_lead_status(row):\n",
    "    if row['Current Status'] == '- None -':\n",
    "        return row['Status at Time of Lead']\n",
    "    else:\n",
    "        return row['Current Status']"
   ]
  },
  {
   "cell_type": "code",
   "execution_count": 8,
   "metadata": {},
   "outputs": [
    {
     "data": {
      "text/plain": [
       "0           CLIENT-Deactivated\n",
       "1           CLIENT-Deactivated\n",
       "2           CLIENT-Deactivated\n",
       "3           CLIENT-Deactivated\n",
       "4                  CLIENT-Live\n",
       "                  ...         \n",
       "273394        PROSPECT-CURRENT\n",
       "273395    LEAD-Contact Program\n",
       "273396    LEAD-Contact Program\n",
       "273397    LEAD-Contact Program\n",
       "273398         LEAD-No Contact\n",
       "Length: 273399, dtype: object"
      ]
     },
     "execution_count": 8,
     "metadata": {},
     "output_type": "execute_result"
    }
   ],
   "source": [
    "df_test = df.copy()\n",
    "df_test.apply(set_lead_status, axis=1)"
   ]
  },
  {
   "cell_type": "code",
   "execution_count": 11,
   "metadata": {},
   "outputs": [],
   "source": [
    "# Pandas Series Vectorized baby!!\n",
    "\n",
    "# you can pass the output directly into a pandas Series\n",
    "\n",
    "df['normalized_status'] = np.where(\n",
    "    df['Status at Time of Lead'] == '- None -',  # <-- condition (W)\n",
    "    df['Current Status'],                        # <-- return if true (T)\n",
    "    df['Status at Time of Lead']                 # <-- return if false (F)\n",
    ")"
   ]
  },
  {
   "cell_type": "code",
   "execution_count": 20,
   "metadata": {},
   "outputs": [],
   "source": [
    "# df['normalized_status']"
   ]
  },
  {
   "cell_type": "code",
   "execution_count": 21,
   "metadata": {},
   "outputs": [],
   "source": [
    "df['normalized_status'] = np.where(\n",
    "    df['Status at Time of Lead'].values == '- None -',\n",
    "    df['Current Status'].values, \n",
    "    df['Status at Time of Lead'].values\n",
    ")"
   ]
  },
  {
   "cell_type": "code",
   "execution_count": 22,
   "metadata": {},
   "outputs": [
    {
     "data": {
      "text/plain": [
       "array(['- None -', '- None -', '- None -', ..., 'LEAD-No Contact',\n",
       "       'LEAD-No Contact', 'LEAD-No Contact'], dtype=object)"
      ]
     },
     "execution_count": 22,
     "metadata": {},
     "output_type": "execute_result"
    }
   ],
   "source": [
    "df['Status at Time of Lead'].values"
   ]
  },
  {
   "cell_type": "code",
   "execution_count": 35,
   "metadata": {},
   "outputs": [
    {
     "data": {
      "text/plain": [
       "numpy.ndarray"
      ]
     },
     "execution_count": 35,
     "metadata": {},
     "output_type": "execute_result"
    }
   ],
   "source": [
    "type(df['Current Status'].values)"
   ]
  },
  {
   "cell_type": "code",
   "execution_count": 40,
   "metadata": {},
   "outputs": [
    {
     "data": {
      "text/plain": [
       "str"
      ]
     },
     "execution_count": 40,
     "metadata": {},
     "output_type": "execute_result"
    }
   ],
   "source": [
    "type(df['Current Status'].values[1])"
   ]
  },
  {
   "cell_type": "code",
   "execution_count": 41,
   "metadata": {},
   "outputs": [
    {
     "data": {
      "text/plain": [
       "str"
      ]
     },
     "execution_count": 41,
     "metadata": {},
     "output_type": "execute_result"
    }
   ],
   "source": [
    "type(df['Current Status'][0])"
   ]
  },
  {
   "cell_type": "code",
   "execution_count": 30,
   "metadata": {},
   "outputs": [
    {
     "data": {
      "text/plain": [
       "pandas.core.series.Series"
      ]
     },
     "execution_count": 30,
     "metadata": {},
     "output_type": "execute_result"
    }
   ],
   "source": [
    "type(df['normalized_status'])"
   ]
  },
  {
   "cell_type": "markdown",
   "metadata": {},
   "source": [
    "# Multiple conditions"
   ]
  },
  {
   "cell_type": "code",
   "execution_count": 42,
   "metadata": {},
   "outputs": [
    {
     "data": {
      "text/plain": [
       "0         Client Lead\n",
       "1         Client Lead\n",
       "2         Client Lead\n",
       "3         Client Lead\n",
       "4         Client Lead\n",
       "             ...     \n",
       "273394       New Lead\n",
       "273395       New Lead\n",
       "273396       New Lead\n",
       "273397       New Lead\n",
       "273398       New Lead\n",
       "Name: lead_category0, Length: 273399, dtype: object"
      ]
     },
     "execution_count": 42,
     "metadata": {},
     "output_type": "execute_result"
    }
   ],
   "source": [
    "list1 = ['LEAD-3 Flame No Contact', 'LEAD-Campaign', 'LEAD-Claim', 'LEAD-Contact Program', \n",
    "         'LEAD-General Pool', 'LEAD-No Contact', 'LEAD-Nurture', 'LEAD-Unqualified', 'PROSPECT-LOST']\n",
    "\n",
    "list2 = ['- None -', 'CLIENT-Closed-Sold', 'CLIENT-Handoff', 'CLIENT-Implementation', 'CLIENT-Implementation (EMR)',\n",
    "         'CLIENT-Live', 'CLIENT-Partner', 'CLIENT-Referring Consultant', 'CLIENT-Transferred', 'LEAD-Engaged', \n",
    "         'LEAD-Long-Term Opportunity', 'PROSPECT-CURRENT', 'PROSPECT-LONG TERM', 'PROSPECT-NO DECISION']\n",
    "\n",
    "# apply version\n",
    "def lead_category(row):\n",
    "    if row['Original Record: Date Created'] == row['Date Created']:\n",
    "        return 'New Lead'\n",
    "    elif row['normalized_status'].startswith('CLI'):\n",
    "        return 'Client Lead'\n",
    "    elif row['normalized_status'] in list1:\n",
    "        return 'MTouch Lead'\n",
    "    elif row['normalized_status'] in list2:\n",
    "        return 'EMTouch Lead'\n",
    "    return 'NA'\n",
    "\n",
    "df['lead_category0'] = df.apply(lead_category, axis=1)\n",
    "df['lead_category0']"
   ]
  },
  {
   "cell_type": "markdown",
   "metadata": {},
   "source": [
    "## nested np.where.... not so fun"
   ]
  },
  {
   "cell_type": "code",
   "execution_count": 43,
   "metadata": {},
   "outputs": [],
   "source": [
    "df['lead_category'] = \\\n",
    "    np.where(df['Original Record: Date Created'].values == df['Date Created'].values, 'New Lead', \n",
    "            np.where(df['normalized_status'].str.startswith('CLI').values, 'Client Lead', \n",
    "                    np.where(df['normalized_status'].isin(list1).values, 'MTouch Lead', \n",
    "                            np.where(df['normalized_status'].isin(list2).values, 'EMTouch Lead', \n",
    "                                     'NA') \n",
    "                                  )\n",
    "                         )\n",
    "                )"
   ]
  },
  {
   "cell_type": "markdown",
   "metadata": {},
   "source": [
    "# Enter numpy.select()"
   ]
  },
  {
   "cell_type": "code",
   "execution_count": null,
   "metadata": {},
   "outputs": [],
   "source": [
    "# Order of operations matter!!!\n",
    "conditions = [\n",
    "    df['Original Record: Date Created'].values == df['Date Created'].values,\n",
    "    df['normalized_status'].str.startswith('CLI').values,\n",
    "    df['normalized_status'].isin(list1).values,\n",
    "    df['normalized_status'].isin(list2).values\n",
    "]\n",
    "\n",
    "choices = [\n",
    "    'New Lead', \n",
    "    'Client Lead', \n",
    "    'MTouch Lead',\n",
    "    'EMTouch Lead'\n",
    "]\n",
    "\n",
    "\n",
    "df['lead_category1'] = np.select(conditions, choices, default='NA')  "
   ]
  },
  {
   "cell_type": "code",
   "execution_count": null,
   "metadata": {},
   "outputs": [],
   "source": [
    "#nested: \n",
    "# With np.select, could do .values here for additional speed, but left out to avoid too much text\n",
    "conditions = [\n",
    "    ((df['Inactive'] == 'No') & (df['Providers'] == 0)),\n",
    "    ((df['Inactive'] == 'No') & (df['Providers'] < 5)),\n",
    "    df['Inactive'] == 'No',\n",
    "    df['duplicate_leads'],  # <-- you can also just evaluate boolean arrays\n",
    "    df['bad_leads'],\n",
    "]\n",
    "\n",
    "choices = [\n",
    "    'active_no_providers',\n",
    "    'active_small',\n",
    "    'active_normal',\n",
    "    'is_dup',\n",
    "    'active_bad',\n",
    "]\n",
    "\n",
    "df['lead_type_vec'] = np.select(conditions, choices, default='NA')\n"
   ]
  },
  {
   "cell_type": "markdown",
   "metadata": {},
   "source": [
    "## regex search, apply"
   ]
  },
  {
   "cell_type": "code",
   "execution_count": 44,
   "metadata": {},
   "outputs": [],
   "source": [
    "# Doing a regex search to find string patterns\n",
    "\n",
    "def find_paid_nonpaid(s):\n",
    "    if re.search(r'non.*?paid', s, re.I):\n",
    "        return 'non-paid'\n",
    "    elif re.search(r'Buyerzone|^paid\\s+', s, re.I):\n",
    "        return 'paid'\n",
    "    else:\n",
    "        return 'unknown'"
   ]
  },
  {
   "cell_type": "code",
   "execution_count": 45,
   "metadata": {},
   "outputs": [],
   "source": [
    "df['lead_source_paid_unpaid'] = df['Lead Source'].apply(find_paid_nonpaid)"
   ]
  },
  {
   "cell_type": "markdown",
   "metadata": {},
   "source": [
    "## regex with np.select"
   ]
  },
  {
   "cell_type": "code",
   "execution_count": 46,
   "metadata": {},
   "outputs": [],
   "source": [
    "conditions = [\n",
    "    df['Lead Source'].str.contains(r'non.*?paid', case=False, na=False),\n",
    "    df['Lead Source'].str.contains(r'Buyerzone|^paid\\s+', case=False, na=False),\n",
    "]\n",
    "\n",
    "choices = [\n",
    "    'non-paid',\n",
    "    'paid'\n",
    "]\n",
    "\n",
    "df['lead_source_paid_unpaid1'] = np.select(conditions, choices, default='unknown')"
   ]
  },
  {
   "cell_type": "markdown",
   "metadata": {},
   "source": [
    "# Dictionary lookups"
   ]
  },
  {
   "cell_type": "code",
   "execution_count": 47,
   "metadata": {},
   "outputs": [],
   "source": [
    "channel_dict = {\n",
    "    'Billing Service': 'BS', 'Consultant': 'PD', 'Educational': 'PD', \n",
    "    'Enterprise': 'PD', 'Hospital': 'PD', 'IPA': 'PD', 'MBS': 'RCM', \n",
    "    'MSO': 'PD', 'Medical practice': 'PD', 'Other': 'PD', 'Partner': 'PD',\n",
    "    'PhyBillers': 'BS', 'Practice': 'PD', 'Purchasing Group': 'PD',\n",
    "    'Reseller': 'BS', 'Vendor': 'PD', '_Other': 'PD', 'RCM': 'RCM'\n",
    "}\n",
    "\n",
    "def a_dict_lookup(row):\n",
    "    if row['Providers'] > 7:\n",
    "        return 'Upmarket'\n",
    "    else:\n",
    "        channel = channel_dict.get(row['Category'])\n",
    "        return channel"
   ]
  },
  {
   "cell_type": "code",
   "execution_count": 48,
   "metadata": {},
   "outputs": [],
   "source": [
    "df['dict_lookup'] = df.apply(a_dict_lookup, axis=1)"
   ]
  },
  {
   "cell_type": "markdown",
   "metadata": {},
   "source": [
    "## np.where, .map()"
   ]
  },
  {
   "cell_type": "code",
   "execution_count": 49,
   "metadata": {},
   "outputs": [],
   "source": [
    "df['dict_lookup1'] = np.where(\n",
    "    df['Providers'].values > 7,              # W\n",
    "    'Upmarket',                              # True\n",
    "    df['Category'].map(channel_dict)         # False, map to dict?\n",
    ")"
   ]
  },
  {
   "cell_type": "code",
   "execution_count": 50,
   "metadata": {},
   "outputs": [],
   "source": [
    "channel_values = df['Category'].map(channel_dict)\n",
    "df['dict_lookup1'] = np.where(\n",
    "    df['Providers'] > 7, \n",
    "    'Upmarket',\n",
    "    channel_values\n",
    ")"
   ]
  },
  {
   "cell_type": "code",
   "execution_count": 52,
   "metadata": {},
   "outputs": [],
   "source": [
    "# # dates:\n",
    "# wtc2 = np.where(\n",
    "#     df['Start Date'].isnull().values,\n",
    "#     (df['Original Record: Date Created'].values - df['Date Created']).dt.days / 7,\n",
    "#     (df['Date Created'].values - df['Start Date']).dt.days / 7\n",
    "# )"
   ]
  },
  {
   "cell_type": "markdown",
   "metadata": {},
   "source": [
    "# pandas .shift, np.select"
   ]
  },
  {
   "cell_type": "code",
   "execution_count": 54,
   "metadata": {},
   "outputs": [],
   "source": [
    "previous_id = df['Internal ID'].shift(1).fillna(0).astype(int)\n",
    "previous_date = df['Original Record: Date Created'].shift(1).fillna(pd.Timestamp('1900'))"
   ]
  },
  {
   "cell_type": "code",
   "execution_count": 55,
   "metadata": {},
   "outputs": [],
   "source": [
    "conditions = [\n",
    "    ((df['Internal ID'].values ==  previous_id) & \n",
    "     (df['Date Created'] - previous_date).astype('timedelta64[D]') < 5),\n",
    "    df['Internal ID'].values ==  previous_id\n",
    "]\n",
    "choices = [0, 1]\n",
    "df['time_col1'] = np.select(conditions, choices, default=1)"
   ]
  },
  {
   "cell_type": "code",
   "execution_count": null,
   "metadata": {},
   "outputs": [],
   "source": []
  }
 ],
 "metadata": {
  "kernelspec": {
   "display_name": "Python 3",
   "language": "python",
   "name": "python3"
  },
  "language_info": {
   "codemirror_mode": {
    "name": "ipython",
    "version": 3
   },
   "file_extension": ".py",
   "mimetype": "text/x-python",
   "name": "python",
   "nbconvert_exporter": "python",
   "pygments_lexer": "ipython3",
   "version": "3.8.5"
  }
 },
 "nbformat": 4,
 "nbformat_minor": 4
}
