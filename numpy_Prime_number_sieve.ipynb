{
 "cells": [
  {
   "cell_type": "code",
   "execution_count": 30,
   "metadata": {},
   "outputs": [],
   "source": [
    "import numpy as np\n",
    "import pandas as pd\n",
    "from math import sqrt\n",
    "#https://scipy-lectures.org/intro/numpy/array_object.html"
   ]
  },
  {
   "cell_type": "code",
   "execution_count": 31,
   "metadata": {},
   "outputs": [],
   "source": [
    "#Construct a shape (100,) boolean array is_prime, filled with True in the beginning:"
   ]
  },
  {
   "cell_type": "code",
   "execution_count": 32,
   "metadata": {},
   "outputs": [],
   "source": [
    "# true == 1, so np.ones or np.empty (creates uninitialized array):\n",
    "# is_prime = np.empty((20+1), dtype=bool)\n",
    "is_prime = np.ones(20+1, dtype=bool)"
   ]
  },
  {
   "cell_type": "code",
   "execution_count": 33,
   "metadata": {},
   "outputs": [
    {
     "name": "stdout",
     "output_type": "stream",
     "text": [
      "[ True  True  True  True  True  True  True  True  True  True  True  True\n",
      "  True  True  True  True  True  True  True  True  True]\n"
     ]
    }
   ],
   "source": [
    "print(is_prime)"
   ]
  },
  {
   "cell_type": "code",
   "execution_count": 34,
   "metadata": {},
   "outputs": [],
   "source": [
    "# Initial values\n",
    "    # Cross out 0 and 1 which are not primes:\n",
    "is_prime[0:2] = False\n",
    "is_prime[2:] = True #all the rest"
   ]
  },
  {
   "cell_type": "code",
   "execution_count": 35,
   "metadata": {},
   "outputs": [
    {
     "data": {
      "text/plain": [
       "array([False, False,  True,  True,  True,  True,  True,  True,  True,\n",
       "        True,  True,  True,  True,  True,  True,  True,  True,  True,\n",
       "        True,  True,  True])"
      ]
     },
     "execution_count": 35,
     "metadata": {},
     "output_type": "execute_result"
    }
   ],
   "source": [
    "is_prime"
   ]
  },
  {
   "cell_type": "code",
   "execution_count": 36,
   "metadata": {},
   "outputs": [],
   "source": [
    "#For each integer j starting from 2, cross out its higher multiples:"
   ]
  },
  {
   "cell_type": "code",
   "execution_count": 37,
   "metadata": {},
   "outputs": [
    {
     "name": "stdout",
     "output_type": "stream",
     "text": [
      "==> Primes through 20:\n",
      " (array([ 2,  3,  5,  7, 11, 13, 17, 19]),)\n"
     ]
    }
   ],
   "source": [
    "N_max = int(np.sqrt(len(is_prime) - 1))\n",
    "for j in range(2, N_max):\n",
    "    is_prime[2*j::j] = False\n",
    "\n",
    "# # Prints your primes\n",
    "print(\"==> Primes through 20:\\n\", np.nonzero(is_prime))\n",
    "# np.nonzero(is_prime)"
   ]
  },
  {
   "cell_type": "code",
   "execution_count": 38,
   "metadata": {},
   "outputs": [
    {
     "name": "stdout",
     "output_type": "stream",
     "text": [
      "==> Primes through 20:\n",
      " [ 2  3  5  7 11 13 17 19]\n"
     ]
    }
   ],
   "source": [
    "def sieve(n):\n",
    "    \"\"\"\n",
    "    Returns the prime number 'sieve' shown above.\n",
    "    \n",
    "    That is, this function returns an array `X[0:n+1]`\n",
    "    such that `X[i]` is true if and only if `i` is prime.\n",
    "    \"\"\"\n",
    "    \n",
    "    #Construct a shape (100,) boolean array is_prime, filled with True in the beginning:\n",
    "    #is_prime = np.ones((100,), dtype=bool)\n",
    "    \n",
    "    is_prime = np.empty(n+1, dtype=bool) # the \"sieve\"\n",
    "\n",
    "    # Initial values\n",
    "    # Cross out 0 and 1 which are not primes:\n",
    "    is_prime[0:2] = False # {0, 1} are _not_ considered prime\n",
    "    is_prime[2:] = True # All other values might be prime\n",
    "\n",
    "    # Implement the sieving loop\n",
    "    \n",
    "    ### START SOLUTION\n",
    "    \n",
    "    #For each integer j starting from 2, cross out its higher multiples:\n",
    "    N_max = int(np.sqrt(len(is_prime) - 1))\n",
    "    for j in range(2, N_max + 1):\n",
    "        is_prime[2*j::j] = False\n",
    "    \n",
    "    return is_prime\n",
    "\n",
    "# Prints your primes\n",
    "print(\"==> Primes through 20:\\n\", np.nonzero(sieve(20))[0])"
   ]
  },
  {
   "cell_type": "code",
   "execution_count": null,
   "metadata": {},
   "outputs": [],
   "source": []
  }
 ],
 "metadata": {
  "kernelspec": {
   "display_name": "Python 3",
   "language": "python",
   "name": "python3"
  },
  "language_info": {
   "codemirror_mode": {
    "name": "ipython",
    "version": 3
   },
   "file_extension": ".py",
   "mimetype": "text/x-python",
   "name": "python",
   "nbconvert_exporter": "python",
   "pygments_lexer": "ipython3",
   "version": "3.8.5"
  }
 },
 "nbformat": 4,
 "nbformat_minor": 4
}
