{
 "cells": [
  {
   "cell_type": "code",
   "execution_count": 15,
   "metadata": {},
   "outputs": [
    {
     "name": "stdout",
     "output_type": "stream",
     "text": [
      "<class 'str'>\n"
     ]
    }
   ],
   "source": [
    "data_root = ''         \n",
    "def read_raw_data(filename):\n",
    "    with open(data_root + filename, 'r') as f:\n",
    "        return f.read()\n",
    "\n",
    "raw_data = read_raw_data('Bucharest2021.pgn')\n",
    "print(type(raw_data))\n",
    "\n",
    "# The sections in the raw data alternate between metadata and moves data."
   ]
  },
  {
   "cell_type": "markdown",
   "metadata": {},
   "source": [
    "#### Take note of how the data is split into sections by blank lines ('\\n\\n'); this fact might be useful later on! (hint! hint!) Here are the first 4 sections."
   ]
  },
  {
   "cell_type": "code",
   "execution_count": 10,
   "metadata": {},
   "outputs": [
    {
     "name": "stdout",
     "output_type": "stream",
     "text": [
      "[Event \"Superbet Classic 2021\"]\n",
      "[Site \"Bucharest ROU\"]\n",
      "[Date \"2021.06.05\"]\n",
      "[Round \"1.5\"]\n",
      "[White \"Deac,Bogdan-Daniel\"]\n",
      "[Black \"Giri,A\"]\n",
      "[Result \"1/2-1/2\"]\n",
      "[WhiteElo \"2627\"]\n",
      "[BlackElo \"2780\"]\n",
      "[ECO \"D43\"]\n",
      "\n",
      "1.d4 d5 2.c4 c6 3.Nc3 Nf6 4.Nf3 e6 5.Bg5 h6 6.Bh4 dxc4 7.e4 g5 8.Bg3 b5 9.Be2 Bb7\n",
      "10.Qc2 Nh5 11.Rd1 Nxg3 12.hxg3 Na6 13.a3 Bg7 14.e5 Qe7 15.Ne4 O-O-O 16.Nd6+ Rxd6\n",
      "17.exd6 Qxd6 18.O-O g4 19.Ne5 Bxe5 20.dxe5 Qxe5 21.Bxg4 h5 22.Rfe1 Qf6 23.Bf3 h4\n",
      "24.b3 cxb3 25.Qxb3 hxg3 26.fxg3 Qg7 27.Qd3 Nc7 28.Qd6 c5 29.Qd7+ Kb8 30.Bxb7 Kxb7\n",
      "31.Rxe6 Qxg3 32.Qc6+ Kb8 33.Qd6 Qxd6 34.Rexd6 Kb7 35.Rf6 Rh7 36.Rd7 b4 37.axb4 cxb4\n",
      "38.Kf2 a5 39.Ke2 Rg7 40.Rfxf7 Rxg2+ 41.Kd1 Rg1+ 42.Kc2 Rg2+ 43.Kb1 Rg1+ 44.Kb2 Rg2+\n",
      "45.Kb1 Rg1+ 46.Kb2 Rg2+ 47.Kb1 Rg1+  1/2-1/2\n",
      "\n",
      "[Event \"Superbet Classic 2021\"]\n",
      "[Site \"Bucharest ROU\"]\n",
      "[Date \"2021.06.05\"]\n",
      "[Round \"1.4\"]\n",
      "[White \"Lupulescu,C\"]\n",
      "[Black \"Aronian,L\"]\n",
      "[Result \"1/2-1/2\"]\n",
      "[WhiteElo \"2656\"]\n",
      "[BlackElo \"2781\"]\n",
      "[ECO \"E39\"]\n",
      "\n",
      "1.d4 Nf6 2.c4 e6 3.Nc3 Bb4 4.Qc2 c5 5.dxc5 O-O 6.Nf3 Na6 7.g3 Nxc5 8.Bg2 Nce4\n",
      "9.O-O Nxc3 10.bxc3 Be7 11.e4 d6 12.e5 dxe5 13.Nxe5 Qc7 14.Qe2 Nd7 15.Bf4 Nxe5\n",
      "16.Bxe5 Bd6 17.Bxd6 Qxd6 18.Qe3 Qc7 19.Rfb1 Qxc4 20.Bxb7 Bxb7 21.Rxb7 h6\n",
      "22.Rxa7 Rxa7 23.Qxa7 Qxc3 24.Rb1 Qc2 25.Rb8 Qd1+ 26.Kg2 Qd5+ 27.Kg1 Qd1+\n",
      "28.Kg2 Qd5+ 29.Kg1 Qd1+  1/2-1/2\n"
     ]
    }
   ],
   "source": [
    "demo_raw_data = '\\n\\n'.join(raw_data.split('\\n\\n')[:4])\n",
    "print(demo_raw_data)"
   ]
  },
  {
   "cell_type": "code",
   "execution_count": 11,
   "metadata": {},
   "outputs": [
    {
     "name": "stdout",
     "output_type": "stream",
     "text": [
      "type(demo_metadata_list[0]): <class 'list'>\n",
      "type(demo_metadata_list[0][0]): <class 'str'>\n"
     ]
    },
    {
     "data": {
      "text/plain": [
       "[['[Event \"Superbet Classic 2021\"]',\n",
       "  '[Site \"Bucharest ROU\"]',\n",
       "  '[Date \"2021.06.05\"]',\n",
       "  '[Round \"1.5\"]',\n",
       "  '[White \"Deac,Bogdan-Daniel\"]',\n",
       "  '[Black \"Giri,A\"]',\n",
       "  '[Result \"1/2-1/2\"]',\n",
       "  '[WhiteElo \"2627\"]',\n",
       "  '[BlackElo \"2780\"]',\n",
       "  '[ECO \"D43\"]'],\n",
       " ['[Event \"Superbet Classic 2021\"]',\n",
       "  '[Site \"Bucharest ROU\"]',\n",
       "  '[Date \"2021.06.05\"]',\n",
       "  '[Round \"1.4\"]',\n",
       "  '[White \"Lupulescu,C\"]',\n",
       "  '[Black \"Aronian,L\"]',\n",
       "  '[Result \"1/2-1/2\"]',\n",
       "  '[WhiteElo \"2656\"]',\n",
       "  '[BlackElo \"2781\"]',\n",
       "  '[ECO \"E39\"]']]"
      ]
     },
     "execution_count": 11,
     "metadata": {},
     "output_type": "execute_result"
    }
   ],
   "source": [
    "demo_metadata_list = [metadata.splitlines() for metadata in demo_raw_data.split('\\n\\n')[::2]]\n",
    "print(f'type(demo_metadata_list[0]): {type(demo_metadata_list[0])}') # outer list items are lists\n",
    "print(f'type(demo_metadata_list[0][0]): {type(demo_metadata_list[0][0])}') # inner list items are strings\n",
    "demo_metadata_list"
   ]
  },
  {
   "cell_type": "markdown",
   "metadata": {},
   "source": [
    "### Extract games function:\n",
    "output:\n",
    "```python\n",
    "[{'white_player': 'Deac,Bogdan-Daniel',\n",
    "  'black_player': 'Giri,A',\n",
    "  'result': '1/2-1/2',\n",
    "  'white_rating': 2627,\n",
    "  'black_rating': 2780},\n",
    " {'white_player': 'Lupulescu,C',\n",
    "  'black_player': 'Aronian,L',\n",
    "  'result': '1/2-1/2',\n",
    "  'white_rating': 2656,\n",
    "  'black_rating': 2781}]\n",
    "```"
   ]
  },
  {
   "cell_type": "code",
   "execution_count": 107,
   "metadata": {},
   "outputs": [
    {
     "data": {
      "text/plain": [
       "[{'white_player': 'Deac,Bogdan-Daniel',\n",
       "  'black_player': 'Giri,A',\n",
       "  'result': '1/2-1/2',\n",
       "  'white_rating': 2627,\n",
       "  'black_rating': 2780},\n",
       " {'white_player': 'Lupulescu,C',\n",
       "  'black_player': 'Aronian,L',\n",
       "  'result': '1/2-1/2',\n",
       "  'white_rating': 2656,\n",
       "  'black_rating': 2781}]"
      ]
     },
     "execution_count": 107,
     "metadata": {},
     "output_type": "execute_result"
    }
   ],
   "source": [
    "def extract_games(raw_data):\n",
    "    import re\n",
    "    key_map = {'White': 'white_player',\n",
    "              'Black': 'black_player',\n",
    "              'WhiteElo': 'white_rating',\n",
    "              'BlackElo': 'black_rating',\n",
    "              'Result':'result'}\n",
    "    \n",
    "    raw_split = raw_data.split(\"\\n\\n\")[::2]\n",
    "    nested_raw = [r.splitlines() for r in raw_split]\n",
    "    \n",
    "    L = []\n",
    "    for n in nested_raw:\n",
    "        d = {}\n",
    "        for r in n:\n",
    "            r_clean = re.sub(r\"[\\[\\]\\s]\", \"\", r)\n",
    "            r_split = re.split(r\"\\\"\", r_clean)\n",
    "            r_key = r_split[0]\n",
    "            r_val = r_split[1]\n",
    "            if r_key in key_map:\n",
    "                d[key_map[r_key]] = int(r_val) if r_val.isdigit() else r_val\n",
    "        L.append(d)\n",
    "    return L\n",
    "    \n",
    "extract_games(demo_raw_data)"
   ]
  }
 ],
 "metadata": {
  "kernelspec": {
   "display_name": "Python 3",
   "language": "python",
   "name": "python3"
  },
  "language_info": {
   "codemirror_mode": {
    "name": "ipython",
    "version": 3
   },
   "file_extension": ".py",
   "mimetype": "text/x-python",
   "name": "python",
   "nbconvert_exporter": "python",
   "pygments_lexer": "ipython3",
   "version": "3.8.5"
  }
 },
 "nbformat": 4,
 "nbformat_minor": 4
}
