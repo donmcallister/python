{
 "cells": [
  {
   "cell_type": "markdown",
   "metadata": {},
   "source": [
    "# Caption Contest"
   ]
  },
  {
   "cell_type": "markdown",
   "metadata": {},
   "source": [
    "# captions_json file"
   ]
  },
  {
   "cell_type": "code",
   "execution_count": 2,
   "metadata": {},
   "outputs": [
    {
     "name": "stdout",
     "output_type": "stream",
     "text": [
      "==> The dataset contains 2458 captions. The first four are:\n"
     ]
    },
    {
     "data": {
      "text/plain": [
       "[{'target_id': 0,\n",
       "  'primary_type': 'text',\n",
       "  'primary_description': 'I told you not to pick the one from the pilot experiment...'},\n",
       " {'target_id': 1,\n",
       "  'primary_type': 'text',\n",
       "  'primary_description': 'Well that explains the gas station'},\n",
       " {'target_id': 2,\n",
       "  'primary_type': 'text',\n",
       "  'primary_description': \"The dairy-free vegan soy cheese doesn't seem to be having the same effect...\"},\n",
       " {'target_id': 3,\n",
       "  'primary_type': 'text',\n",
       "  'primary_description': 'Repeatedly, cheese demonstrated characteristics of a performance enhancing drug'}]"
      ]
     },
     "execution_count": 2,
     "metadata": {},
     "output_type": "execute_result"
    }
   ],
   "source": [
    "import json\n",
    "\n",
    "def get_path(basename):\n",
    "    from os.path import isdir\n",
    "    return f'{basename}' #if isdir('.voc') else basename\n",
    "\n",
    "with open(get_path('captions.json'), 'rt', encoding='utf-8') as fp:\n",
    "    captions_json = json.load(fp)\n",
    "    \n",
    "print(f\"==> The dataset contains {len(captions_json)} captions. The first four are:\")\n",
    "captions_json[:4]"
   ]
  },
  {
   "cell_type": "markdown",
   "metadata": {},
   "source": [
    "## Basic Cleaning: get_captions from list of dictionaries\n",
    "- The input, captions_json, is an object just like the one loaded above (a list of dictonaries with the given keys and values).\n",
    "- The function returns a list of just the text (string) captions."
   ]
  },
  {
   "cell_type": "code",
   "execution_count": 3,
   "metadata": {},
   "outputs": [
    {
     "data": {
      "text/plain": [
       "['I told you not to pick the one from the pilot experiment...',\n",
       " 'Well that explains the gas station',\n",
       " \"The dairy-free vegan soy cheese doesn't seem to be having the same effect...\",\n",
       " 'Repeatedly, cheese demonstrated characteristics of a performance enhancing drug']"
      ]
     },
     "execution_count": 3,
     "metadata": {},
     "output_type": "execute_result"
    }
   ],
   "source": [
    "def get_captions(captions_json):\n",
    "    ###\n",
    "    ### YOUR CODE HERE\n",
    "    ###\n",
    "#     captions_orig = []\n",
    "#     for i,j in enumerate(captions_json):\n",
    "#         captions_orig.append(j['primary_description'])\n",
    "#     return captions_orig\n",
    "    return ([c['primary_description'] for c in captions_json])\n",
    "        \n",
    "captions_orig = get_captions(captions_json)\n",
    "captions_orig[:4]"
   ]
  },
  {
   "cell_type": "markdown",
   "metadata": {},
   "source": [
    "## Cleaning: return clean list of words from caption: REGEX\n",
    "- Converts s to lowercase.\n",
    "- Returns a list of the words in s, defined as above.\n",
    "***Hint: Heed the definition, \"... including up to one apostrophe if that apostrophe is sandwiched between two letters.\"***\n",
    "```python\n",
    "assert clean(\"Please sir, that's obviously a clip-on.\") \\\n",
    "       == ['please', 'sir', \"that's\", 'obviously', 'a', 'clip', 'on']\n",
    "assert clean(\"I'm sorry, sir, but this is a 'gluten-free' restaurant. We don't serve bread.\") \\\n",
    "       == [\"i'm\", 'sorry', 'sir', 'but', 'this', 'is', 'a', 'gluten', 'free', 'restaurant', 'we', \"don't\", 'serve', 'bread']\n"
   ]
  },
  {
   "cell_type": "code",
   "execution_count": 48,
   "metadata": {},
   "outputs": [
    {
     "data": {
      "text/plain": [
       "[\"i'm\",\n",
       " 'sorry',\n",
       " 'sir',\n",
       " 'but',\n",
       " 'this',\n",
       " 'is',\n",
       " 'a',\n",
       " 'gluten',\n",
       " 'free',\n",
       " 'restaurant',\n",
       " 'we',\n",
       " \"don't\",\n",
       " 'serve',\n",
       " 'bread']"
      ]
     },
     "execution_count": 48,
     "metadata": {},
     "output_type": "execute_result"
    }
   ],
   "source": [
    "def clean(s):\n",
    "    ###\n",
    "    ### YOUR CODE HERE\n",
    "    ###\n",
    "    import re\n",
    "    pattern = r\"[a-z]+(?:'[a-z]+)?\" #non-capturing:matches but doesn't allow reference\n",
    "    return(re.findall(pattern,s.lower()))\n",
    "    \n",
    "clean(\"I'm sorry, sir, but this is a 'gluten-free' restaurant. We don't serve bread.\")"
   ]
  },
  {
   "cell_type": "markdown",
   "metadata": {},
   "source": [
    "## Cleaning: remove stopwords: Captions as \"bags of words\"\n",
    "\n",
    "For example, if `c` is the cleaned caption,\n",
    "\n",
    "```python\n",
    "    c == \"you're in luck a slot for you just opened up in our kitchen\"\n",
    "```\n",
    "\n",
    "then its bag of words representation is a Python set of the form,\n",
    "\n",
    "```python\n",
    "    {'just', 'kitchen', 'luck', 'opened', 'slot'}\n",
    "```"
   ]
  },
  {
   "cell_type": "code",
   "execution_count": 49,
   "metadata": {},
   "outputs": [],
   "source": [
    "stopwords = {'with', 'theirs', 'their', 'its', 'his', \"didn't\", 'in', 'through', 'be', 'and', \"i'll\", \"shouldn't\", 'a', \"she'll\", \"wasn't\", 'own', 'would', 'it', 'how', 'during', 'under', \"don't\", 'down', 'for', 'about', 'over', \"i've\", \"haven't\", 'so', 'ourselves', 'if', 'your', \"weren't\", 'should', 'some', \"mustn't\", \"you'd\", \"they've\", 'by', \"she's\", \"they'll\", 'my', 'was', 'here', 'before', 'at', 'itself', 'more', 'from', 'am', 'very', 'that', \"when's\", \"shan't\", 'not', 'whom', \"hadn't\", 'those', \"here's\", 'has', \"what's\", \"isn't\", 'this', 'an', 'few', 'me', \"aren't\", 'are', 'yourselves', 'ought', \"we'll\", 'do', 'having', 'yours', 'until', 'then', 'as', 'because', 'himself', 'herself', 'only', 'they', 'who', \"let's\", \"you'll\", 'no', 'i', \"we've\", 'the', 'against', 'both', 'each', 'them', 'any', 'been', 'had', 'which', 'being', 'why', \"you're\", 'you', \"that's\", \"wouldn't\", \"i'd\", 'have', 'we', 'cannot', 'does', 'doing', 'is', 'after', \"we're\", 'further', \"where's\", 'off', 'below', 'he', 'yourself', 'up', \"it's\", 'these', 'than', \"she'd\", 'did', 'but', 'she', 'between', 'hers', 'of', 'were', \"doesn't\", \"he'll\", \"how's\", \"we'd\", 'above', 'on', 'nor', 'out', \"why's\", \"who's\", \"they'd\", \"hasn't\", 'ours', 'into', \"won't\", \"he'd\", 'again', \"he's\", 'same', 'other', 'or', 'when', 'once', \"can't\", 'her', 'such', 'most', 'what', \"they're\", 'there', 'themselves', 'all', \"you've\", 'could', 'while', \"couldn't\", 'our', \"there's\", 'too', 'him', 'to', \"i'm\", 'where', 'myself'}"
   ]
  },
  {
   "cell_type": "code",
   "execution_count": 50,
   "metadata": {},
   "outputs": [
    {
     "data": {
      "text/plain": [
       "{'just', 'kitchen', 'luck', 'opened', 'slot'}"
      ]
     },
     "execution_count": 50,
     "metadata": {},
     "output_type": "execute_result"
    }
   ],
   "source": [
    "def bag_of_words(c):\n",
    "    # Assume `c` is already clean per Exercise 1\n",
    "    ###\n",
    "    ### YOUR CODE HERE\n",
    "    ###\n",
    "    c_split = set(c.split(\" \"))\n",
    "    return c_split - stopwords\n",
    "        \n",
    "bag_of_words(\"you're in luck a slot for you just opened up in our kitchen\")"
   ]
  },
  {
   "cell_type": "markdown",
   "metadata": {},
   "source": [
    "## ASIDE: Counter"
   ]
  },
  {
   "cell_type": "code",
   "execution_count": 51,
   "metadata": {},
   "outputs": [
    {
     "name": "stdout",
     "output_type": "stream",
     "text": [
      "Counter({'fish': 1, 'red': 1, 'blue': 1, 'hat': 1, 'cat': 1}) ==> 1 0\n",
      "Counter({'dog': 1, 'beret': 1, 'one': 1, 'two': 1, 'fish': 1, 'red': 1, 'blue': 1}) ==> 1 1\n",
      "Counter({'fish': 1, 'dog': 1, 'cat': 1}) ==> 1 1\n",
      "Counter({'fish': 3, 'red': 2, 'blue': 2, 'cat': 2, 'dog': 2, 'hat': 1, 'beret': 1, 'one': 1, 'two': 1}) ==> 3 2\n"
     ]
    }
   ],
   "source": [
    "from collections import Counter\n",
    "\n",
    "# Three example sets:\n",
    "A = {'cat', 'hat', 'fish', 'red', 'blue'}\n",
    "B = {'dog', 'beret', 'one', 'fish', 'two', 'red', 'blue'}\n",
    "C = {'dog', 'cat', 'fish'}\n",
    "\n",
    "# Count value occurrences in `A`, `B`, and `C`\n",
    "K_A = Counter(A)\n",
    "K_B = Counter(B)\n",
    "K_C = Counter(C)\n",
    "\n",
    "print(K_A, \"==>\", K_A['fish'], K_A['dog'])\n",
    "print(K_B, \"==>\", K_B['fish'], K_B['dog'])\n",
    "print(K_C, \"==>\", K_C['fish'], K_C['dog'])\n",
    "\n",
    "# Combine occurrence counts by simple addition!\n",
    "K_D = K_A + K_B + K_C\n",
    "print(K_D, \"==>\", K_D['fish'], K_D['dog'])"
   ]
  },
  {
   "cell_type": "markdown",
   "metadata": {},
   "source": [
    "## Count word frequencies for all words across multiple dictionary lists: counter.update"
   ]
  },
  {
   "cell_type": "code",
   "execution_count": 52,
   "metadata": {},
   "outputs": [],
   "source": [
    "def count_freq(bags):\n",
    "    ###\n",
    "    ### YOUR CODE HERE\n",
    "    ###\n",
    "    bag_words = Counter()\n",
    "    for bag in bags:\n",
    "        bag_words.update(bag)\n",
    "    return bag_words"
   ]
  },
  {
   "cell_type": "code",
   "execution_count": 53,
   "metadata": {},
   "outputs": [
    {
     "name": "stdout",
     "output_type": "stream",
     "text": [
      "Counter({'fish': 3, 'red': 2, 'blue': 2, 'cat': 2, 'dog': 2, 'hat': 1, 'beret': 1, 'one': 1, 'two': 1})\n"
     ]
    }
   ],
   "source": [
    "bags = [{'cat', 'hat', 'fish', 'red', 'blue'},\n",
    "        {'dog', 'beret', 'one', 'fish', 'two', 'red', 'blue'},\n",
    "        {'dog', 'cat', 'fish'}]\n",
    "print(count_freq(bags))"
   ]
  },
  {
   "cell_type": "markdown",
   "metadata": {},
   "source": [
    "# Scoring Captions"
   ]
  },
  {
   "cell_type": "code",
   "execution_count": 54,
   "metadata": {},
   "outputs": [
    {
     "name": "stdout",
     "output_type": "stream",
     "text": [
      "7\n",
      "6\n"
     ]
    }
   ],
   "source": [
    "def score_bag_common(bag, freq):\n",
    "    return sum([freq[word] for word in bag])\n",
    "\n",
    "K = Counter({'fish': 3, 'cat': 2, 'blue': 2, 'red': 2, 'dog': 2, 'hat': 1, 'one': 1, 'two': 1, 'beret': 1})\n",
    "print(score_bag_common({'blue', 'cat', 'fish'}, K))\n",
    "print(score_bag_common({'one', 'two', 'beret', 'hat', 'dog'}, K))"
   ]
  },
  {
   "cell_type": "code",
   "execution_count": 55,
   "metadata": {},
   "outputs": [
    {
     "name": "stdout",
     "output_type": "stream",
     "text": [
      "Top 5 (word, frequency) pairs:\n",
      "[('sorry', 819), ('sir', 509), ('toast', 451), ('bread', 223), ('gluten', 193)]\n",
      "\n",
      "Least frequent words:\n",
      "[('allergies', 1), ('fancy', 1), ('odd', 1), ('millenials', 1), ('y', 1)]\n"
     ]
    }
   ],
   "source": [
    "word_freq = count_freq(caption_bags)\n",
    "captions_orig = get_captions(captions_json)\n",
    "\n",
    "\n",
    "print(\"Top 5 (word, frequency) pairs:\")\n",
    "print(word_freq.most_common(5))\n",
    "\n",
    "print(\"\\nLeast frequent words:\")\n",
    "print(word_freq.most_common()[-5::])"
   ]
  },
  {
   "cell_type": "code",
   "execution_count": 56,
   "metadata": {},
   "outputs": [
    {
     "name": "stdout",
     "output_type": "stream",
     "text": [
      "Loading caption bags from 'caption_bags.pickle'...\n",
      "- Bag for caption 123: {'obviously', 'clip', 'sir', 'please'}\n",
      "- Bag for caption 314: {'sorry', 'meetings', 'toastmasters', 'sir', 'tuesday'}\n"
     ]
    }
   ],
   "source": [
    "def load_bags(infilename=\"caption_bags.pickle\"):\n",
    "    from pickle import load\n",
    "    full_path = get_path(infilename)\n",
    "    print(f\"Loading caption bags from '{full_path}'...\")\n",
    "    with open(full_path, \"rb\") as fp:\n",
    "        bags = load(fp)\n",
    "    return bags\n",
    "\n",
    "caption_bags = load_bags()\n",
    "print(\"- Bag for caption 123:\", caption_bags[123])\n",
    "print(\"- Bag for caption 314:\", caption_bags[314])"
   ]
  },
  {
   "cell_type": "code",
   "execution_count": 57,
   "metadata": {},
   "outputs": [
    {
     "name": "stdout",
     "output_type": "stream",
     "text": [
      "1 [2252.000]: '1440. I'm sorry sir, we cannot seat you until the rest of your party arrives. Without avocado, you're just toast.'\n",
      "2 [2134.000]: '1481. I'm sorry, sir, but this is a gluten-free restaurant. We don't serve bread.'\n",
      "3 [2099.000]: '1778. I'm very sorry, sir, but we only serve gluten free bread in this establishment.'\n",
      "4 [2094.000]: '808. I'm sorry, sir, but even being the toast of the town won't get you a table tonight.'\n",
      "5 [2061.000]: '134. I'm sorry sir, the only reservation I have under \"Toast\" checked in 15 minutes ago with a palate of butter and some strawberry jam.'\n"
     ]
    }
   ],
   "source": [
    "\n",
    "def score_all(bags, scoring_fun, freq):\n",
    "    return [scoring_fun(bag, freq) for bag in bags]\n",
    "\n",
    "def get_order(scores, max_rank=None):\n",
    "    if max_rank is None:\n",
    "        max_rank = len(scores)\n",
    "    # https://stackoverflow.com/questions/7851077/how-to-return-index-of-a-sorted-list\n",
    "    return sorted(range(len(scores)), key=lambda k: scores[k], reverse=True)[:max_rank]\n",
    "\n",
    "def print_top_captions(scores, captions, max_rank=10):\n",
    "    for rank, k in enumerate(get_order(scores, max_rank)):\n",
    "        print(f\"{rank+1} [{scores[k]:.3f}]: '{k}. {captions[k]}'\")\n",
    "        \n",
    "scores_common = score_all(caption_bags, score_bag_common, word_freq)\n",
    "print_top_captions(scores_common, captions_orig, max_rank=5)"
   ]
  },
  {
   "cell_type": "code",
   "execution_count": 58,
   "metadata": {},
   "outputs": [
    {
     "name": "stdout",
     "output_type": "stream",
     "text": [
      "1 [9.372]: '1732. Party of one... Woah, I think I finally understand super-symmetry, the duality of infinity, and the entire universe... What? No, they're not putting LSD in the sauce or anything, in case that's what you were wondering, Mr. what did you say it was?'\n",
      "2 [8.746]: '1690. And now, to close the twenty-fourth annual meeting of the \"Literalists Society\", the dry crisp stylings of our Toastmaster Emeritus, Toasty McToast.'\n",
      "3 [8.658]: '2385. I'm sorry, this is a restaurant. We don't arrange “murder the homeless” Most Dangerous Game island getaways for sentient slices of bread. I can't begin to imagine why you thought I could do that for you.'\n",
      "4 [8.656]: '212. I would like to practice my speaking skills with a sad story about my family being roasted alive and eaten right in front of me.  I will try not to cry so I can avoid getting soggy and moldy.'\n",
      "5 [8.381]: '461. Okay, so here's how it's going to go. Forty-seven people will write captions that are some variant on the most obvious choice, and one of them -- perhaps at random -- will be chosen the \"winner.\"  I'm sorry, I wish I had better news.'\n"
     ]
    }
   ],
   "source": [
    "def score_bag_rare(b, freq):\n",
    "    return sum([1/freq[w] for w in b])\n",
    "\n",
    "scores_rare = score_all(caption_bags, score_bag_rare, word_freq)\n",
    "print_top_captions(scores_rare, captions_orig, max_rank=5)"
   ]
  },
  {
   "cell_type": "markdown",
   "metadata": {},
   "source": [
    "## Exercise 4\n",
    "**Exercise 4** (2 points). Let's try to implement a score that rewards a mix of common and surprising words, along with captions that are both not too short and not too long.\n",
    "\n",
    "In particular, here is what your colleague has suggested.\n",
    "\n",
    "- Suppose a bag has $m$ words.\n",
    "- Suppose these $m$ words have frequencies $f = [f_0, f_1, \\ldots, f_{m-1}]$.\n",
    "- Let $\\frac{1}{f} \\equiv \\left[\\frac{1}{f_0}, \\frac{1}{f_1}, \\ldots, \\frac{1}{f_{m-1}}\\right]$ denote the inverse of these frequencies.\n",
    "\n",
    "From these, let $s(f)$ be the score of the bag, defined using the following two-part formula:\n",
    "\n",
    "$$\n",
    "\\begin{eqnarray}\n",
    "  s(f) & = & \\mathrm{pstdev}\\left(\\frac{1}{f}\\right) \\cdot w(m) \\\\\n",
    "  w(m) & = & \\frac{m}{\\mu} \\exp\\left( - \\frac{|m - \\mu|}{\\mu} \\right),\n",
    "\\end{eqnarray}\n",
    "$$\n",
    "\n",
    "where $\\mathrm{pstdev}(1 / f)$ is the _(population) standard deviation_ of the inverse-frequencies, and $\\mu$ is a constant. Note the use of an absolute value in the definition of $w(m)$.\n",
    "\n",
    "Here is your colleague's reasoning.\n",
    "\n",
    "- The standard deviation rewards bags that have highly variable frequencies, i.e., a diverse mix of rare and common words.\n",
    "- The $w(m)$ factor penalizes overly short or overly long sentences. It equals 1 when $m = \\mu$, which you can interpret as a \"target\" caption length. It is less than 1 for all other values. (The function $\\exp(x)$ is $e^x$, where $e$ is the base of the natural logarithm.)\n",
    "\n",
    "Translate your colleague's formula into code, implementing it as `score_bag_mixed(bag, freq, mu)`, below, where\n",
    "\n",
    "- `bag` is the bag of a caption;\n",
    "- `freq` is a `Counter()` object, where `freq[w]` is the frequency of word `w` for any `w` in `bag`;\n",
    "- `mu` is the target caption length, whose default value is 5.\n",
    "\n",
    "> **Hint 0:** The code cell imports a functions to compute the population standard deviation (`statistics.pstdev`) and exponential.\n",
    ">\n",
    "> **Hint 1:** The population standard deviation is only well-defined when computed on at least one value. So if therre are no values, then let $\\mathrm{pstdev}(\\cdot) = 0$."
   ]
  },
  {
   "cell_type": "code",
   "execution_count": 59,
   "metadata": {},
   "outputs": [],
   "source": [
    "from statistics import pstdev # https://docs.python.org/3/library/statistics.html#statistics.stdev\n",
    "from math import exp\n",
    "\n",
    "def score_bag_mixed(bag, freq, mu=5):\n",
    "    ###\n",
    "    ### YOUR CODE HERE\n",
    "    ###\n",
    "    m = len(bag)\n",
    "    if m == 0:\n",
    "        return 0\n",
    "    f_inv = [1/freq[w] for w in bag]\n",
    "    w = (m/mu)*exp(-abs(m-mu)/mu)\n",
    "    return pstdev(f_inv)*w"
   ]
  },
  {
   "cell_type": "code",
   "execution_count": 60,
   "metadata": {},
   "outputs": [
    {
     "name": "stdout",
     "output_type": "stream",
     "text": [
      "1 [0.488]: '297. I'm sorry, but this is the gluten-free keynote address.'\n",
      "2 [0.485]: '1575. I'm afraid it's one of those modern weddings and there won't be a toast.'\n",
      "3 [0.484]: '796. Sorry,Captain Picard's dog's name is not \"Toast\".'\n",
      "4 [0.484]: '1805. Sir, I think you misunderstand what the Toastmasters organization is all about...'\n",
      "5 [0.482]: '912. Sorry. Toastmasters met last Monday.'\n",
      "6 [0.481]: '587. Now I don't wanna see you crumble under pressure'\n",
      "7 [0.480]: '497. Mr. Peanut?  I'm so sorry.  He recently donated all he had.'\n",
      "8 [0.478]: '629. I can squeeze you in if you take off the feet, the arms and the tie.'\n",
      "9 [0.478]: '606. You lied about your experience in the service industry?! Oh, you're toast.'\n",
      "10 [0.477]: '1305. Mr. SquarePants, please spell \"SpongBob.\"'\n"
     ]
    }
   ],
   "source": [
    "# Demo:\n",
    "scores_mixed = score_all(caption_bags, score_bag_mixed, word_freq)\n",
    "print_top_captions(scores_mixed, captions_orig)\n",
    "\n",
    "# If you are on the right track, the top three captions should be:\n",
    "#\n",
    "# 1 [0.488]: '297. I'm sorry, but this is the gluten-free keynote address.'\n",
    "# 2 [0.485]: '1575. I'm afraid it's one of those modern weddings and there won't be a toast.'\n",
    "# 3 [0.484]: '796. Sorry,Captain Picard's dog's name is not \"Toast\".'"
   ]
  },
  {
   "cell_type": "code",
   "execution_count": null,
   "metadata": {},
   "outputs": [],
   "source": []
  }
 ],
 "metadata": {
  "kernelspec": {
   "display_name": "Python 3",
   "language": "python",
   "name": "python3"
  },
  "language_info": {
   "codemirror_mode": {
    "name": "ipython",
    "version": 3
   },
   "file_extension": ".py",
   "mimetype": "text/x-python",
   "name": "python",
   "nbconvert_exporter": "python",
   "pygments_lexer": "ipython3",
   "version": "3.8.5"
  }
 },
 "nbformat": 4,
 "nbformat_minor": 4
}
