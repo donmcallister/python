{
 "cells": [
  {
   "cell_type": "markdown",
   "metadata": {},
   "source": [
    "# Python Review: 2D Nested Structure: Slicing (Part 2)"
   ]
  },
  {
   "cell_type": "code",
   "execution_count": 10,
   "metadata": {},
   "outputs": [],
   "source": [
    "# 2d lists do not really exist in Python.\n",
    "# They are just lists (rows = len(a)) that happen to contain other lists (cols = len(a[0]) as elements.\n",
    "# rows = len(a)\n",
    "# cols = len(a[0])"
   ]
  },
  {
   "cell_type": "code",
   "execution_count": 9,
   "metadata": {},
   "outputs": [
    {
     "name": "stdout",
     "output_type": "stream",
     "text": [
      "This IS ok.  At first:\n",
      "   a = [[0, 0], [0, 0], [0, 0]]\n",
      "And now see what happens after a[0][0]=42\n",
      "   a = [[42, 0], [0, 0], [0, 0]]\n"
     ]
    }
   ],
   "source": [
    "# Create a variable-sized 2d list\n",
    "rows = 3\n",
    "cols = 2\n",
    "\n",
    "a = []\n",
    "for row in range(rows):\n",
    "    a += [[0]*cols]\n",
    "\n",
    "print(\"This IS ok.  At first:\")\n",
    "print(\"   a =\", a)\n",
    "\n",
    "a[0][0] = 42\n",
    "print(\"And now see what happens after a[0][0]=42\")\n",
    "print(\"   a =\", a)"
   ]
  },
  {
   "cell_type": "code",
   "execution_count": 4,
   "metadata": {},
   "outputs": [
    {
     "name": "stdout",
     "output_type": "stream",
     "text": [
      "a =  [[2, 3, 5], [1, 4, 7]]\n",
      "rows = 2\n",
      "cols = 3\n"
     ]
    }
   ],
   "source": [
    "# Create an \"arbitrary\" 2d List\n",
    "a = [ [ 2, 3, 5] , [ 1, 4, 7 ] ]\n",
    "print(\"a = \", a)\n",
    "\n",
    "# Now find its dimensions\n",
    "rows = len(a)\n",
    "cols = len(a[0])\n",
    "print(\"rows =\", rows)\n",
    "print(\"cols =\", cols)"
   ]
  },
  {
   "cell_type": "code",
   "execution_count": 6,
   "metadata": {},
   "outputs": [
    {
     "name": "stdout",
     "output_type": "stream",
     "text": [
      "[2, 5]\n"
     ]
    }
   ],
   "source": [
    "# still a copy, but cleaner with a list comprehension!\n",
    "a = [ [ 1, 2, 3 ] , \n",
    "      [ 4, 5, 6 ] ]\n",
    "col = 1\n",
    "colList = [ a[i][col] for i in range(len(a)) ]\n",
    "print(colList)"
   ]
  },
  {
   "cell_type": "code",
   "execution_count": 7,
   "metadata": {},
   "outputs": [
    {
     "name": "stdout",
     "output_type": "stream",
     "text": [
      "Row 0 has 3 columns: 1  2  3  \n",
      "Row 1 has 2 columns: 4  5  \n",
      "Row 2 has 1 columns: 6  \n",
      "Row 3 has 4 columns: 7  8  9  10  \n"
     ]
    }
   ],
   "source": [
    "# 2d lists do not have to be rectangular: https://www.cs.cmu.edu/~112/notes/notes-2d-lists.html\n",
    "a = [ [ 1, 2, 3 ] ,\n",
    "      [ 4, 5 ],\n",
    "      [ 6 ],\n",
    "      [ 7, 8, 9, 10 ] ]\n",
    "\n",
    "rows = len(a)\n",
    "for row in range(rows):\n",
    "    cols = len(a[row]) # now cols depends on each row\n",
    "    print(\"Row\", row, \"has\", cols, \"columns: \", end=\"\")\n",
    "    for col in range(cols):\n",
    "        print(a[row][col], \" \", end=\"\")\n",
    "    print()"
   ]
  },
  {
   "cell_type": "code",
   "execution_count": 2,
   "metadata": {},
   "outputs": [],
   "source": [
    "grades = [\n",
    "    ['Student', 'Exam 1', 'Exam 2', 'Exam 3'],\n",
    "    ['Thorny', '100', '90', '80'],\n",
    "    ['Mac', '88', '99', '111'],\n",
    "    ['Farva', '45', '56', '67'],\n",
    "    ['Rabbit', '59', '61', '67'],\n",
    "    ['Ursula', '73', '79', '83'],\n",
    "    ['Foster', '89', '97', '101']\n",
    "]"
   ]
  },
  {
   "cell_type": "code",
   "execution_count": 3,
   "metadata": {},
   "outputs": [
    {
     "name": "stdout",
     "output_type": "stream",
     "text": [
      "rows = 7\n",
      "cols = 4\n"
     ]
    }
   ],
   "source": [
    "rows = len(grades)\n",
    "cols = len(grades[0])\n",
    "print(\"rows =\", rows)\n",
    "print(\"cols =\", cols)"
   ]
  },
  {
   "cell_type": "code",
   "execution_count": 7,
   "metadata": {},
   "outputs": [
    {
     "data": {
      "text/plain": [
       "['Thorny', 'Mac', 'Farva', 'Rabbit', 'Ursula', 'Foster']"
      ]
     },
     "execution_count": 7,
     "metadata": {},
     "output_type": "execute_result"
    }
   ],
   "source": [
    "#student names\n",
    "student_names = [L[0] for L in grades[1:]]\n",
    "student_names"
   ]
  },
  {
   "cell_type": "code",
   "execution_count": 53,
   "metadata": {},
   "outputs": [
    {
     "data": {
      "text/plain": [
       "['Exam 1', 'Exam 2', 'Exam 3']"
      ]
     },
     "execution_count": 53,
     "metadata": {},
     "output_type": "execute_result"
    }
   ],
   "source": [
    "assignments = grades[0][1:]\n",
    "assignments"
   ]
  },
  {
   "cell_type": "code",
   "execution_count": 64,
   "metadata": {},
   "outputs": [
    {
     "data": {
      "text/plain": [
       "{'Thorny': [100, 90, 80],\n",
       " 'Mac': [88, 99, 111],\n",
       " 'Farva': [45, 56, 67],\n",
       " 'Rabbit': [59, 61, 67],\n",
       " 'Ursula': [73, 79, 83],\n",
       " 'Foster': [89, 97, 101]}"
      ]
     },
     "execution_count": 64,
     "metadata": {},
     "output_type": "execute_result"
    }
   ],
   "source": [
    "grade_lists = {}\n",
    "\n",
    "for L in grades[1:]:\n",
    "    grade_lists[L[0]] = [int(g) for g in L[1:]]\n",
    "    \n",
    "grade_lists\n",
    "\n",
    "# helper:\n",
    "# for L in grades[1:]:\n",
    "#     print(L[0], L[1:])"
   ]
  },
  {
   "cell_type": "code",
   "execution_count": 102,
   "metadata": {},
   "outputs": [
    {
     "data": {
      "text/plain": [
       "{'Thorny': {'Exam 1': 100, 'Exam 2': 90, 'Exam 3': 80},\n",
       " 'Mac': {'Exam 1': 88, 'Exam 2': 99, 'Exam 3': 111},\n",
       " 'Farva': {'Exam 1': 45, 'Exam 2': 56, 'Exam 3': 67},\n",
       " 'Rabbit': {'Exam 1': 59, 'Exam 2': 61, 'Exam 3': 67},\n",
       " 'Ursula': {'Exam 1': 73, 'Exam 2': 79, 'Exam 3': 83},\n",
       " 'Foster': {'Exam 1': 89, 'Exam 2': 97, 'Exam 3': 101}}"
      ]
     },
     "execution_count": 102,
     "metadata": {},
     "output_type": "execute_result"
    }
   ],
   "source": [
    "grade_dicts = {}\n",
    "\n",
    "for L in grades[1:]:\n",
    "#     print(L[0], list(zip(L[1:], assignments)))\n",
    "    grade_dicts[L[0]] =  dict(zip(assignments, [int(g) for g in L[1:]]))\n",
    "# grade_dicts['Thorny']['Exam 1']\n",
    "grade_dicts"
   ]
  },
  {
   "cell_type": "code",
   "execution_count": 99,
   "metadata": {},
   "outputs": [
    {
     "data": {
      "text/plain": [
       "{'Thorny': {'Exam 1': '100', 'Exam 2': '90', 'Exam 3': '80'},\n",
       " 'Mac': {'Exam 1': '88', 'Exam 2': '99', 'Exam 3': '111'},\n",
       " 'Farva': {'Exam 1': '45', 'Exam 2': '56', 'Exam 3': '67'},\n",
       " 'Rabbit': {'Exam 1': '59', 'Exam 2': '61', 'Exam 3': '67'},\n",
       " 'Ursula': {'Exam 1': '73', 'Exam 2': '79', 'Exam 3': '83'},\n",
       " 'Foster': {'Exam 1': '89', 'Exam 2': '97', 'Exam 3': '101'}}"
      ]
     },
     "execution_count": 99,
     "metadata": {},
     "output_type": "execute_result"
    }
   ],
   "source": [
    "# zip(assignments, L[1:]) ::\n",
    "{'Thorny': {'Exam 1': '100', 'Exam 2': '90', 'Exam 3': '80'},\n",
    " 'Mac': {'Exam 1': '88', 'Exam 2': '99', 'Exam 3': '111'},\n",
    " 'Farva': {'Exam 1': '45', 'Exam 2': '56', 'Exam 3': '67'},\n",
    " 'Rabbit': {'Exam 1': '59', 'Exam 2': '61', 'Exam 3': '67'},\n",
    " 'Ursula': {'Exam 1': '73', 'Exam 2': '79', 'Exam 3': '83'},\n",
    " 'Foster': {'Exam 1': '89', 'Exam 2': '97', 'Exam 3': '101'}}"
   ]
  },
  {
   "cell_type": "code",
   "execution_count": 103,
   "metadata": {},
   "outputs": [],
   "source": [
    "from statistics import mean"
   ]
  },
  {
   "cell_type": "code",
   "execution_count": 115,
   "metadata": {},
   "outputs": [
    {
     "data": {
      "text/plain": [
       "{'Thorny': 90,\n",
       " 'Mac': 99.33333333333333,\n",
       " 'Farva': 56,\n",
       " 'Rabbit': 62.333333333333336,\n",
       " 'Ursula': 78.33333333333333,\n",
       " 'Foster': 95.66666666666667}"
      ]
     },
     "execution_count": 115,
     "metadata": {},
     "output_type": "execute_result"
    }
   ],
   "source": [
    "avg_grade_by_student = {}\n",
    "for k,v in grade_lists.items():\n",
    "    avg_grade_by_student[k] = mean(v)\n",
    "avg_grade_by_student"
   ]
  },
  {
   "cell_type": "code",
   "execution_count": 125,
   "metadata": {},
   "outputs": [
    {
     "data": {
      "text/plain": [
       "{'Exam 1': [100, 88, 45, 59, 73, 89],\n",
       " 'Exam 2': [90, 99, 56, 61, 79, 97],\n",
       " 'Exam 3': [80, 111, 67, 67, 83, 101]}"
      ]
     },
     "execution_count": 125,
     "metadata": {},
     "output_type": "execute_result"
    }
   ],
   "source": [
    "grades_by_assignment = {}\n",
    "\n",
    "for i,v in enumerate(assignments):\n",
    "    grades_by_assignment[v] = [int(L[i+1]) for L in grades[1:]]\n",
    "\n",
    "grades_by_assignment"
   ]
  },
  {
   "cell_type": "code",
   "execution_count": 127,
   "metadata": {},
   "outputs": [],
   "source": [
    "avg_grades_by_assignment = {}\n",
    "\n",
    "for k,v in grades_by_assignment.items():\n",
    "    avg_grades_by_assignment[k] = mean(v)"
   ]
  },
  {
   "cell_type": "code",
   "execution_count": 128,
   "metadata": {},
   "outputs": [
    {
     "data": {
      "text/plain": [
       "{'Exam 1': 75.66666666666667,\n",
       " 'Exam 2': 80.33333333333333,\n",
       " 'Exam 3': 84.83333333333333}"
      ]
     },
     "execution_count": 128,
     "metadata": {},
     "output_type": "execute_result"
    }
   ],
   "source": [
    "avg_grades_by_assignment"
   ]
  },
  {
   "cell_type": "code",
   "execution_count": 134,
   "metadata": {},
   "outputs": [
    {
     "data": {
      "text/plain": [
       "['a', 'cat', 2, 3, 'dog', 4, 5]"
      ]
     },
     "execution_count": 134,
     "metadata": {},
     "output_type": "execute_result"
    }
   ],
   "source": [
    "L = [['a', ['cat'],2], [[[3]], 'dog'], 4, 5]\n",
    "\n",
    "def flatten(L):\n",
    "    flat = []\n",
    "    for c in L:\n",
    "        if type(c) is not list:\n",
    "            flat += [c]\n",
    "        else:\n",
    "            flat += flatten(c)\n",
    "    return flat\n",
    "\n",
    "flatten(L)"
   ]
  },
  {
   "cell_type": "code",
   "execution_count": null,
   "metadata": {},
   "outputs": [],
   "source": []
  }
 ],
 "metadata": {
  "kernelspec": {
   "display_name": "Python 3",
   "language": "python",
   "name": "python3"
  },
  "language_info": {
   "codemirror_mode": {
    "name": "ipython",
    "version": 3
   },
   "file_extension": ".py",
   "mimetype": "text/x-python",
   "name": "python",
   "nbconvert_exporter": "python",
   "pygments_lexer": "ipython3",
   "version": "3.8.5"
  }
 },
 "nbformat": 4,
 "nbformat_minor": 4
}
